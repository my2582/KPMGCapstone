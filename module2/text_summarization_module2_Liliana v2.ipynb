{
 "cells": [
  {
   "cell_type": "code",
   "execution_count": null,
   "metadata": {},
   "outputs": [],
   "source": [
    "import pandas as pd\n",
    "import numpy as np\n",
    "pd.options.display.max_colwidth = 200\n",
    "\n",
    "## for text summarization\n",
    "import re\n",
    "import heapq \n",
    "import nltk\n",
    "from nltk.corpus import stopwords\n",
    "from nltk.tokenize import sent_tokenize, word_tokenize\n",
    "from sumy.summarizers.text_rank import TextRankSummarizer\n",
    "nltk.download('stopwords')\n",
    "stopwords = stopwords.words('english')\n",
    "nltk.download('punkt')\n",
    "\n",
    "\n",
    "import sumy\n",
    "from sumy.summarizers.luhn import LuhnSummarizer\n",
    "from sumy.summarizers.lsa import LsaSummarizer\n",
    "from sumy.parsers.plaintext import PlaintextParser\n",
    "from sumy.nlp.tokenizers import Tokenizer\n",
    "from sumy.summarizers.lex_rank import LexRankSummarizer\n",
    "from lexrank import STOPWORDS, LexRank"
   ]
  },
  {
   "cell_type": "code",
   "execution_count": null,
   "metadata": {},
   "outputs": [],
   "source": [
    "def add_titles(row):\n",
    "    \"add the titles to the text\"\n",
    "    row[\"text\"].insert(0,row[\"title\"])\n",
    "    \n",
    "def section_ids(df):\n",
    "    ''' \n",
    "    input data frame with the following columns document, page, Class\n",
    "    this will extract the section if once the row is tagged\n",
    "    '''\n",
    "    \n",
    "    secID_in = []\n",
    "    for doc in df[\"document\"].unique():\n",
    "        temp = df[df[\"document\"]==doc]\n",
    "        j = 1\n",
    "        for i in range(len(temp)):\n",
    "            if temp.iloc[i,2] == 1.0:\n",
    "                secID_in.append((temp.iloc[i,0],temp.iloc[i,1],temp.iloc[i,2],0))\n",
    "                j+=1\n",
    "            elif temp.iloc[i,2] == 0.0:\n",
    "                secID_in.append((temp.iloc[i,0],temp.iloc[i,1],temp.iloc[i,2],j))\n",
    "            else:\n",
    "                secID_in.append((temp.iloc[i,0],temp.iloc[i,1],temp.iloc[i,2],np.nan))\n",
    "\n",
    "    sections = pd.DataFrame(secID_in, columns =[\"document\",\"page\",\"Class\",\"secIDin\"])\n",
    "    return sections\n",
    "\n",
    "def get_text(df_after_classification):\n",
    "    # gets sections ID  \n",
    "    sec_doc = section_ids(df_after_classification[[\"document\", \"page\", \"Class\"]])\n",
    "\n",
    "    # merges the sections ID with DataFrame\n",
    "    data = pd.merge(df_after_classification,\n",
    "                    sec_doc,left_index=True, right_index=True, on=[\"document\",\"page\", \"Class\"])\n",
    "    \n",
    "    text = data[[\"text\",\"document\",\"page\",\"Class\",\n",
    "              \"secIDin\"]].groupby([\"document\",\"secIDin\"])['text'].apply(list).reset_index()\n",
    "    \n",
    "    # extracts the text\n",
    "    text = text[(text[\"secIDin\"]!=0) & (text[\"secIDin\"]!=1)] \n",
    "    \n",
    "    # extracts titles\n",
    "    #titles = data[[\"document\",\"text\",\"Class\"]].where(data.Class ==1).dropna().reset_index(drop=1)\n",
    "    #titles[\"secIDin\"] = titles.groupby(\"document\")[\"Class\"].rank(method='first')\n",
    "    #titles[\"secIDin\"] = titles[\"secIDin\"] +1\n",
    "    #titles.rename(index=str, columns={\"text\": \"title\"}, inplace=True)\n",
    "    #titles.drop(\"Class\",axis=1, inplace=True)\n",
    "    #temp_df = pd.merge(text,titles,on=[\"document\",\"secIDin\"]) # merges the text and the titles\n",
    "    #_ = temp_df[[\"text\",\"title\"]].apply(add_titles, axis=1) # adds the titles to the text\n",
    "    #temp_df.drop(columns=[\"title\"], inplace=True)\n",
    "    \n",
    "    temp_df = text\n",
    "    temp_df[\"secIDin\"] = temp_df[\"secIDin\"]-1\n",
    "    \n",
    "    return temp_df"
   ]
  },
  {
   "cell_type": "markdown",
   "metadata": {},
   "source": [
    "### the cell below cleans the data but it is not needed if the data is already cleaned. "
   ]
  },
  {
   "cell_type": "code",
   "execution_count": null,
   "metadata": {},
   "outputs": [],
   "source": [
    "excel_file = pd.read_excel('./features.xlsx', sheet_name = 'features_v7' , \n",
    "                           header=1, skip_blank_lines = False) \n",
    "excel_file['left'] = pd.to_numeric(excel_file['left'].str.replace('px', ''))\n",
    "excel_file['top'] = pd.to_numeric(excel_file['top'].str.replace('px', ''))\n",
    "excel_file[\"page\"] = excel_file[\"page\"].apply(lambda x: int(''.join(filter(str.isdigit, x))))\n",
    "excel_file[\"document\"] = excel_file[\"document\"].apply(lambda x: x.split(\"/\")[-1])\n",
    "excel_file[\"LSL\"] = excel_file.groupby([\"document\",\"page\"])[\"left\"].apply(lambda x: x.diff()).fillna(0)\n",
    "excel_file[\"LST\"] = excel_file.groupby([\"document\",\"page\"])[\"top\"].apply(lambda x: x.diff()).fillna(0)\n",
    "#Clean px and convert to right data type for columns: fontsize, left and top\n",
    "excel_file['font-size'] = pd.to_numeric(excel_file['font-size'].str.replace('px', ''))"
   ]
  },
  {
   "cell_type": "markdown",
   "metadata": {},
   "source": [
    "### this is the code to extract the important info. "
   ]
  },
  {
   "cell_type": "code",
   "execution_count": null,
   "metadata": {},
   "outputs": [],
   "source": [
    "df_after_classification = excel_file[[\"document\",\"page\",\"text\",\"Class\",]]\n",
    "print(\"this is how the dataframe should look like to pass  it to my function\")\n",
    "df_after_classification.head()"
   ]
  },
  {
   "cell_type": "markdown",
   "metadata": {},
   "source": [
    "### using the function"
   ]
  },
  {
   "cell_type": "code",
   "execution_count": null,
   "metadata": {},
   "outputs": [],
   "source": [
    "documents = get_text(df_after_classification)\n",
    "documents.head()"
   ]
  },
  {
   "cell_type": "markdown",
   "metadata": {},
   "source": [
    "# MODELS "
   ]
  },
  {
   "cell_type": "code",
   "execution_count": null,
   "metadata": {},
   "outputs": [],
   "source": [
    "# source https://stackabuse.com/text-summarization-with-nltk-in-python/\n",
    "def text_summarization_nltk_model(article):\n",
    "    '''\n",
    "    input:a dataframe with the following features 1) document name (document), 2) section id (secIDin), 3) text (text) \n",
    "    output: a dataframe with features from the input plus the text summarization (2 sentences)\n",
    "    function: this function does text summarization using NLTK\n",
    "    '''\n",
    "    #article = [str(x) for x in article]\n",
    "    article_text = \" \".join(map(str, article))\n",
    "    # Removing Square Brackets and Extra Spaces \n",
    "    article_text = re.sub(r'\\s+', ' ', article_text) \n",
    "\n",
    "    # Removing special characters and digits\n",
    "    formatted_article_text = re.sub('[^a-zA-Z]', ' ', article_text )  \n",
    "    formatted_article_text = re.sub(r'\\s+', ' ', formatted_article_text)  \n",
    "\n",
    "    sentence_list = nltk.sent_tokenize(article_text) \n",
    "\n",
    "    stopwords = nltk.corpus.stopwords.words('english')\n",
    "\n",
    "    word_frequencies = {}  \n",
    "    for word in nltk.word_tokenize(formatted_article_text):  \n",
    "        if word not in stopwords:\n",
    "            if word not in word_frequencies.keys():\n",
    "                word_frequencies[word] = 1\n",
    "            else:\n",
    "                word_frequencies[word] += 1\n",
    "\n",
    "    maximum_frequncy = max(word_frequencies.values())\n",
    "\n",
    "    for word in word_frequencies.keys():  \n",
    "        word_frequencies[word] = (word_frequencies[word]/maximum_frequncy)\n",
    "\n",
    "\n",
    "    sentence_scores = {}  \n",
    "    for sent in sentence_list:  \n",
    "        for word in nltk.word_tokenize(sent.lower()):\n",
    "            if word in word_frequencies.keys():\n",
    "                if len(sent.split(' ')) < 30:\n",
    "                    if sent not in sentence_scores.keys():\n",
    "                        sentence_scores[sent] = word_frequencies[word]\n",
    "                    else:\n",
    "                        sentence_scores[sent] += word_frequencies[word]\n",
    "\n",
    "    summary_sentences = heapq.nlargest(2, sentence_scores, key=sentence_scores.get)\n",
    "    summary = format_summary(summary_sentences)\n",
    "         \n",
    "    return summary"
   ]
  },
  {
   "cell_type": "code",
   "execution_count": null,
   "metadata": {
    "scrolled": false
   },
   "outputs": [],
   "source": [
    "def text_summarization_nltk(documents):\n",
    "    text = []\n",
    "    summ = []\n",
    "    sec = []\n",
    "    page = []\n",
    "    doc_name = []\n",
    "\n",
    "    for i in range(len(documents)):\n",
    "        article_text = documents.iloc[i,2]\n",
    "        text.append(article_text)\n",
    "        summ.append(text_summarization_nltk_model(article_text))\n",
    "        sec.append(documents.iloc[i,1])\n",
    "        doc_name.append(documents.iloc[i,0])\n",
    "\n",
    "    d = {\"document\":doc_name, \"secIDin\":sec,'text': text, 'summary_NLTK': summ}\n",
    "    docs = pd.DataFrame(data=d)\n",
    "    \n",
    "    return docs"
   ]
  },
  {
   "cell_type": "code",
   "execution_count": null,
   "metadata": {},
   "outputs": [],
   "source": [
    "def text_summarization_lsa(df):\n",
    "    '''\n",
    "    input:a dataframe with the following features 1) document name (document), 2) section id (secIDin), \n",
    "            3) text (text) \n",
    "    output: a dataframe with features from the input plus the text summarization (45% of the setences)\n",
    "    func: this fucntion does text summarization using lsa \n",
    "    '''\n",
    "    summarizer_2 = LsaSummarizer()\n",
    "    df[\"summary_LSA\"] = np.nan\n",
    "\n",
    "    for i in range(len(df)):\n",
    "        parser = PlaintextParser.from_string(df['text'].iloc[i], Tokenizer(\"english\"))\n",
    "        all_sentences = sent_tokenize(df['text'].iloc[i])\n",
    "        num_sentences = len(all_sentences)\n",
    "        n = 2#num_sentences*0.45  ## summarize the document with 45% sentences\n",
    "        summary_LSA = summarizer_2(parser.document, n)\n",
    "        df[\"summary_LSA\"].iloc[i] = summary_LSA\n",
    "        \n",
    "    df[\"summary_LSA\"] = df[\"summary_LSA\"].apply(lambda x: format_summary([str(text) for text in x]))\n",
    "    return df"
   ]
  },
  {
   "cell_type": "code",
   "execution_count": null,
   "metadata": {},
   "outputs": [],
   "source": [
    "def text_summarization_textRank(df_final):\n",
    "    summarizer_3 = TextRankSummarizer()\n",
    "\n",
    "    df_final[\"summary_TextRank\"] = np.nan\n",
    "\n",
    "    for i in range(len(df_final)):\n",
    "        parser = PlaintextParser.from_string(df_final['text'].iloc[i], Tokenizer(\"english\"))\n",
    "        all_sentences = sent_tokenize(df_final['text'].iloc[i])\n",
    "        num_sentences = len(all_sentences)\n",
    "        n = 2#num_sentences*0.45  ## summarize the document with 45% sentences\n",
    "        summary_TextRank = summarizer_3(parser.document, n)\n",
    "        df_final[\"summary_TextRank\"].iloc[i] = summary_TextRank\n",
    "        \n",
    "    df_final[\"summary_TextRank\"] = df_final[\"summary_TextRank\"].apply(lambda x: format_summary([str(text) for text in x]))\n",
    "    return df_final"
   ]
  },
  {
   "cell_type": "code",
   "execution_count": null,
   "metadata": {},
   "outputs": [],
   "source": [
    "def text_summarization_luhn(df_final):\n",
    "    summarizer_1 = LuhnSummarizer()\n",
    "    df_final[\"summary_Luhn\"] = np.nan\n",
    "\n",
    "    for i in range(len(df_final)):\n",
    "        parser = PlaintextParser.from_string(df_final['text'].iloc[i], Tokenizer(\"english\"))\n",
    "        all_sentences = sent_tokenize(df_final['text'].iloc[i])\n",
    "        num_sentences = len(all_sentences)\n",
    "        n = 2#num_sentences*0.45  ## summarize the document with 45% sentences\n",
    "        summary_Luhn = summarizer_1(parser.document, n)\n",
    "        df_final[\"summary_Luhn\"].iloc[i] =   summary_Luhn\n",
    "        \n",
    "    df_final[\"summary_Luhn\"] = df_final[\"summary_Luhn\"].apply(lambda x: format_summary([str(text) for text in x]))\n",
    "    return df_final"
   ]
  },
  {
   "cell_type": "code",
   "execution_count": null,
   "metadata": {},
   "outputs": [],
   "source": [
    "def text_summarization_lexRank(df_final):\n",
    "    '''\n",
    "    input:a dataframe with the following features 1) document name (document), 2) section id (secIDin), \n",
    "            3) text (text) \n",
    "    output: a dataframe with features from the input plus the text summarization (45% of the setences)\n",
    "    func: this fucntion does text summarization using Lex Rank \n",
    "    '''\n",
    "    summarizer = LexRankSummarizer()\n",
    "    \n",
    "    df_final[\"summary_Lex_Rank\"] = np.nan ## add empty column called 'Sec_Summary'\n",
    "    df_final['text'] = df_final['text'].apply(str)\n",
    "\n",
    "    for i in range(len(df_final)):\n",
    "        parser = PlaintextParser.from_string(df_final['text'].iloc[i], Tokenizer(\"english\"))\n",
    "        all_sentences = sent_tokenize(df_final['text'].iloc[i])\n",
    "        num_sentences = len(all_sentences)\n",
    "        n = 2#num_sentences*0.45  ## summarize the document with 45% sentences\n",
    "        summary = summarizer(parser.document, n)\n",
    "        df_final['summary_Lex_Rank'].iloc[i] = summary\n",
    "        \n",
    "    df_final['summary_Lex_Rank'] = df_final['summary_Lex_Rank'].apply(lambda x: format_summary([str(text) for text in x]))\n",
    "    return df_final"
   ]
  },
  {
   "cell_type": "code",
   "execution_count": null,
   "metadata": {},
   "outputs": [],
   "source": [
    "def format_summary(summary_sentences):        \n",
    "    intro = [\"The commenter stated that \", \"\\nThe commented further stated that \"]\n",
    "    summary_sentences = [str(intro[i]) + str(summary_sentences[i].lower()) \n",
    "                         for i in range(len(summary_sentences))]\n",
    "\n",
    "    summary = ' '.join(summary_sentences) \n",
    "    summary = summary.replace(\". \",\".\\n\\n\")\n",
    "    summary = summary.replace(\"we\",\"they\")\n",
    "    \n",
    "    return summary"
   ]
  },
  {
   "cell_type": "code",
   "execution_count": null,
   "metadata": {},
   "outputs": [],
   "source": [
    "summary = text_summarization_nltk(documents)\n",
    "summary= text_summarization_lexRank(summary)\n",
    "summary = text_summarization_lsa(summary)\n",
    "summary = text_summarization_textRank(summary)\n",
    "summary = text_summarization_luhn(summary)"
   ]
  },
  {
   "cell_type": "code",
   "execution_count": null,
   "metadata": {},
   "outputs": [],
   "source": [
    "#summary.to_csv(\"sample.csv\")"
   ]
  },
  {
   "cell_type": "code",
   "execution_count": null,
   "metadata": {},
   "outputs": [],
   "source": []
  },
  {
   "cell_type": "code",
   "execution_count": null,
   "metadata": {},
   "outputs": [],
   "source": []
  },
  {
   "cell_type": "code",
   "execution_count": null,
   "metadata": {},
   "outputs": [],
   "source": []
  }
 ],
 "metadata": {
  "kernelspec": {
   "display_name": "Python 3",
   "language": "python",
   "name": "python3"
  },
  "language_info": {
   "codemirror_mode": {
    "name": "ipython",
    "version": 3
   },
   "file_extension": ".py",
   "mimetype": "text/x-python",
   "name": "python",
   "nbconvert_exporter": "python",
   "pygments_lexer": "ipython3",
   "version": "3.7.1"
  }
 },
 "nbformat": 4,
 "nbformat_minor": 2
}
