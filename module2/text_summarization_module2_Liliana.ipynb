{
 "cells": [
  {
   "cell_type": "code",
   "execution_count": 1,
   "metadata": {},
   "outputs": [
    {
     "name": "stderr",
     "output_type": "stream",
     "text": [
      "[nltk_data] Downloading package stopwords to\n",
      "[nltk_data]     /Users/lilianacruzlopez/nltk_data...\n",
      "[nltk_data]   Package stopwords is already up-to-date!\n",
      "[nltk_data] Downloading package punkt to\n",
      "[nltk_data]     /Users/lilianacruzlopez/nltk_data...\n",
      "[nltk_data]   Package punkt is already up-to-date!\n"
     ]
    }
   ],
   "source": [
    "import pandas as pd\n",
    "import numpy as np\n",
    "pd.options.display.max_colwidth = 200\n",
    "\n",
    "## for text summarization\n",
    "import re\n",
    "import heapq \n",
    "import nltk\n",
    "from nltk.corpus import stopwords\n",
    "from nltk.tokenize import sent_tokenize, word_tokenize\n",
    "from sumy.summarizers.text_rank import TextRankSummarizer\n",
    "nltk.download('stopwords')\n",
    "stopwords = stopwords.words('english')\n",
    "nltk.download('punkt')\n",
    "\n",
    "\n",
    "import sumy\n",
    "from sumy.summarizers.luhn import LuhnSummarizer\n",
    "from sumy.summarizers.lsa import LsaSummarizer\n",
    "from sumy.parsers.plaintext import PlaintextParser\n",
    "from sumy.nlp.tokenizers import Tokenizer\n",
    "from sumy.summarizers.lex_rank import LexRankSummarizer\n",
    "from lexrank import STOPWORDS, LexRank"
   ]
  },
  {
   "cell_type": "code",
   "execution_count": 2,
   "metadata": {},
   "outputs": [],
   "source": [
    "def add_titles(row):\n",
    "    \"add the titles to the text\"\n",
    "    row[\"text\"].insert(0,row[\"title\"])\n",
    "    \n",
    "def section_ids(df):\n",
    "    ''' \n",
    "    input data frame with the following columns document, page, Class\n",
    "    this will extract the section if once the row is tagged\n",
    "    '''\n",
    "    \n",
    "    secID_in = []\n",
    "    for doc in df[\"document\"].unique():\n",
    "        temp = df[df[\"document\"]==doc]\n",
    "        j = 1\n",
    "        for i in range(len(temp)):\n",
    "            if temp.iloc[i,2] == 1.0:\n",
    "                secID_in.append((temp.iloc[i,0],temp.iloc[i,1],temp.iloc[i,2],0))\n",
    "                j+=1\n",
    "            elif temp.iloc[i,2] == 0.0:\n",
    "                secID_in.append((temp.iloc[i,0],temp.iloc[i,1],temp.iloc[i,2],j))\n",
    "            else:\n",
    "                secID_in.append((temp.iloc[i,0],temp.iloc[i,1],temp.iloc[i,2],np.nan))\n",
    "\n",
    "    sections = pd.DataFrame(secID_in, columns =[\"document\",\"page\",\"Class\",\"secIDin\"])\n",
    "    return sections\n",
    "\n",
    "def get_text(df_after_classification):\n",
    "    # gets sections ID  \n",
    "    sec_doc = section_ids(df_after_classification[[\"document\", \"page\", \"Class\"]])\n",
    "\n",
    "    # merges the sections ID with DataFrame\n",
    "    data = pd.merge(df_after_classification,\n",
    "                    sec_doc,left_index=True, right_index=True, on=[\"document\",\"page\", \"Class\"])\n",
    "    \n",
    "    text = data[[\"text\",\"document\",\"page\",\"Class\",\n",
    "              \"secIDin\"]].groupby([\"document\",\"secIDin\"])['text'].apply(list).reset_index()\n",
    "    \n",
    "    # extracts the text\n",
    "    text = text[(text[\"secIDin\"]!=0) & (text[\"secIDin\"]!=1)] \n",
    "    \n",
    "    # extracts titles\n",
    "    #titles = data[[\"document\",\"text\",\"Class\"]].where(data.Class ==1).dropna().reset_index(drop=1)\n",
    "    #titles[\"secIDin\"] = titles.groupby(\"document\")[\"Class\"].rank(method='first')\n",
    "    #titles[\"secIDin\"] = titles[\"secIDin\"] +1\n",
    "    #titles.rename(index=str, columns={\"text\": \"title\"}, inplace=True)\n",
    "    #titles.drop(\"Class\",axis=1, inplace=True)\n",
    "    #temp_df = pd.merge(text,titles,on=[\"document\",\"secIDin\"]) # merges the text and the titles\n",
    "    #_ = temp_df[[\"text\",\"title\"]].apply(add_titles, axis=1) # adds the titles to the text\n",
    "    #temp_df.drop(columns=[\"title\"], inplace=True)\n",
    "    \n",
    "    temp_df = text\n",
    "    temp_df[\"secIDin\"] = temp_df[\"secIDin\"]-1\n",
    "    \n",
    "    return temp_df"
   ]
  },
  {
   "cell_type": "markdown",
   "metadata": {},
   "source": [
    "### the cell below cleans the data but it is not needed if the data is already cleaned. "
   ]
  },
  {
   "cell_type": "code",
   "execution_count": 3,
   "metadata": {},
   "outputs": [],
   "source": [
    "excel_file = pd.read_excel('./features.xlsx', sheet_name = 'features_v7' , \n",
    "                           header=1, skip_blank_lines = False) \n",
    "excel_file['left'] = pd.to_numeric(excel_file['left'].str.replace('px', ''))\n",
    "excel_file['top'] = pd.to_numeric(excel_file['top'].str.replace('px', ''))\n",
    "excel_file[\"page\"] = excel_file[\"page\"].apply(lambda x: int(''.join(filter(str.isdigit, x))))\n",
    "excel_file[\"document\"] = excel_file[\"document\"].apply(lambda x: x.split(\"/\")[-1])\n",
    "excel_file[\"LSL\"] = excel_file.groupby([\"document\",\"page\"])[\"left\"].apply(lambda x: x.diff()).fillna(0)\n",
    "excel_file[\"LST\"] = excel_file.groupby([\"document\",\"page\"])[\"top\"].apply(lambda x: x.diff()).fillna(0)\n",
    "#Clean px and convert to right data type for columns: fontsize, left and top\n",
    "excel_file['font-size'] = pd.to_numeric(excel_file['font-size'].str.replace('px', ''))"
   ]
  },
  {
   "cell_type": "markdown",
   "metadata": {},
   "source": [
    "### this is the code to extract the important info. "
   ]
  },
  {
   "cell_type": "code",
   "execution_count": 4,
   "metadata": {},
   "outputs": [
    {
     "name": "stdout",
     "output_type": "stream",
     "text": [
      "this is how the dataframe should look like to pass  it to my function\n"
     ]
    },
    {
     "data": {
      "text/html": [
       "<div>\n",
       "<style scoped>\n",
       "    .dataframe tbody tr th:only-of-type {\n",
       "        vertical-align: middle;\n",
       "    }\n",
       "\n",
       "    .dataframe tbody tr th {\n",
       "        vertical-align: top;\n",
       "    }\n",
       "\n",
       "    .dataframe thead th {\n",
       "        text-align: right;\n",
       "    }\n",
       "</style>\n",
       "<table border=\"1\" class=\"dataframe\">\n",
       "  <thead>\n",
       "    <tr style=\"text-align: right;\">\n",
       "      <th></th>\n",
       "      <th>document</th>\n",
       "      <th>page</th>\n",
       "      <th>text</th>\n",
       "      <th>Class</th>\n",
       "    </tr>\n",
       "  </thead>\n",
       "  <tbody>\n",
       "    <tr>\n",
       "      <th>0</th>\n",
       "      <td>CMS_2014_0115_0059.pdf</td>\n",
       "      <td>1</td>\n",
       "      <td>2014-10-10 00:00:00</td>\n",
       "      <td>0.0</td>\n",
       "    </tr>\n",
       "    <tr>\n",
       "      <th>1</th>\n",
       "      <td>CMS_2014_0115_0059.pdf</td>\n",
       "      <td>1</td>\n",
       "      <td>Centers for Medicare &amp; Medicaid Services</td>\n",
       "      <td>0.0</td>\n",
       "    </tr>\n",
       "    <tr>\n",
       "      <th>2</th>\n",
       "      <td>CMS_2014_0115_0059.pdf</td>\n",
       "      <td>1</td>\n",
       "      <td>Department of Health and Human Services</td>\n",
       "      <td>0.0</td>\n",
       "    </tr>\n",
       "    <tr>\n",
       "      <th>3</th>\n",
       "      <td>CMS_2014_0115_0059.pdf</td>\n",
       "      <td>1</td>\n",
       "      <td>Attention: CMS-9968-P</td>\n",
       "      <td>0.0</td>\n",
       "    </tr>\n",
       "    <tr>\n",
       "      <th>4</th>\n",
       "      <td>CMS_2014_0115_0059.pdf</td>\n",
       "      <td>1</td>\n",
       "      <td>P.O. Box 8013</td>\n",
       "      <td>0.0</td>\n",
       "    </tr>\n",
       "  </tbody>\n",
       "</table>\n",
       "</div>"
      ],
      "text/plain": [
       "                 document  page                                      text  \\\n",
       "0  CMS_2014_0115_0059.pdf     1                       2014-10-10 00:00:00   \n",
       "1  CMS_2014_0115_0059.pdf     1  Centers for Medicare & Medicaid Services   \n",
       "2  CMS_2014_0115_0059.pdf     1   Department of Health and Human Services   \n",
       "3  CMS_2014_0115_0059.pdf     1                     Attention: CMS-9968-P   \n",
       "4  CMS_2014_0115_0059.pdf     1                             P.O. Box 8013   \n",
       "\n",
       "   Class  \n",
       "0    0.0  \n",
       "1    0.0  \n",
       "2    0.0  \n",
       "3    0.0  \n",
       "4    0.0  "
      ]
     },
     "execution_count": 4,
     "metadata": {},
     "output_type": "execute_result"
    }
   ],
   "source": [
    "df_after_classification = excel_file[[\"document\",\"page\",\"text\",\"Class\",]]\n",
    "print(\"this is how the dataframe should look like to pass  it to my function\")\n",
    "df_after_classification.head()"
   ]
  },
  {
   "cell_type": "markdown",
   "metadata": {},
   "source": [
    "### using the function"
   ]
  },
  {
   "cell_type": "code",
   "execution_count": 5,
   "metadata": {},
   "outputs": [
    {
     "data": {
      "text/html": [
       "<div>\n",
       "<style scoped>\n",
       "    .dataframe tbody tr th:only-of-type {\n",
       "        vertical-align: middle;\n",
       "    }\n",
       "\n",
       "    .dataframe tbody tr th {\n",
       "        vertical-align: top;\n",
       "    }\n",
       "\n",
       "    .dataframe thead th {\n",
       "        text-align: right;\n",
       "    }\n",
       "</style>\n",
       "<table border=\"1\" class=\"dataframe\">\n",
       "  <thead>\n",
       "    <tr style=\"text-align: right;\">\n",
       "      <th></th>\n",
       "      <th>document</th>\n",
       "      <th>secIDin</th>\n",
       "      <th>text</th>\n",
       "    </tr>\n",
       "  </thead>\n",
       "  <tbody>\n",
       "    <tr>\n",
       "      <th>2</th>\n",
       "      <td>CMS_2014_0115_0059.pdf</td>\n",
       "      <td>1.0</td>\n",
       "      <td>[students of religious institutions, To Whom It May Concern:, On behalf of Nationwide Life Insurance Company (“Nationwide”) and its affiliated companies, we, appreciate the opportunity to provide ...</td>\n",
       "    </tr>\n",
       "    <tr>\n",
       "      <th>3</th>\n",
       "      <td>CMS_2014_0115_0059.pdf</td>\n",
       "      <td>2.0</td>\n",
       "      <td>[significant administrative burden upon all parties., The Department’s basic premise that “issuers generally would find that providing such contraceptive, coverage is cost neutral” is in error (Fe...</td>\n",
       "    </tr>\n",
       "    <tr>\n",
       "      <th>4</th>\n",
       "      <td>CMS_2014_0115_0059.pdf</td>\n",
       "      <td>3.0</td>\n",
       "      <td>[automatically enrolled in a contraceptive-only health plan., Students who choose to attend a religious institution of higher learning do so for a reason, and most, of the time, these students str...</td>\n",
       "    </tr>\n",
       "    <tr>\n",
       "      <th>5</th>\n",
       "      <td>CMS_2014_0115_0059.pdf</td>\n",
       "      <td>4.0</td>\n",
       "      <td>[partaking in providing contraceptive coverage to its students if the same SHIP it contracts, with for general student health must also provide contraceptive coverage via individual, policies., In...</td>\n",
       "    </tr>\n",
       "    <tr>\n",
       "      <th>6</th>\n",
       "      <td>CMS_2014_0115_0059.pdf</td>\n",
       "      <td>5.0</td>\n",
       "      <td>[contrary to basic contract law., An issued health insurance policy is a contract between an insurance company and the insured., Contracts are binding and enforceable only when one party extends a...</td>\n",
       "    </tr>\n",
       "  </tbody>\n",
       "</table>\n",
       "</div>"
      ],
      "text/plain": [
       "                 document  secIDin  \\\n",
       "2  CMS_2014_0115_0059.pdf      1.0   \n",
       "3  CMS_2014_0115_0059.pdf      2.0   \n",
       "4  CMS_2014_0115_0059.pdf      3.0   \n",
       "5  CMS_2014_0115_0059.pdf      4.0   \n",
       "6  CMS_2014_0115_0059.pdf      5.0   \n",
       "\n",
       "                                                                                                                                                                                                      text  \n",
       "2  [students of religious institutions, To Whom It May Concern:, On behalf of Nationwide Life Insurance Company (“Nationwide”) and its affiliated companies, we, appreciate the opportunity to provide ...  \n",
       "3  [significant administrative burden upon all parties., The Department’s basic premise that “issuers generally would find that providing such contraceptive, coverage is cost neutral” is in error (Fe...  \n",
       "4  [automatically enrolled in a contraceptive-only health plan., Students who choose to attend a religious institution of higher learning do so for a reason, and most, of the time, these students str...  \n",
       "5  [partaking in providing contraceptive coverage to its students if the same SHIP it contracts, with for general student health must also provide contraceptive coverage via individual, policies., In...  \n",
       "6  [contrary to basic contract law., An issued health insurance policy is a contract between an insurance company and the insured., Contracts are binding and enforceable only when one party extends a...  "
      ]
     },
     "execution_count": 5,
     "metadata": {},
     "output_type": "execute_result"
    }
   ],
   "source": [
    "documents = get_text(df_after_classification)\n",
    "documents.head()"
   ]
  },
  {
   "cell_type": "markdown",
   "metadata": {},
   "source": [
    "# MODELS "
   ]
  },
  {
   "cell_type": "code",
   "execution_count": 6,
   "metadata": {},
   "outputs": [],
   "source": [
    "def format_summary(summary_sentences):\n",
    "    ## THIS FORMATS THE OUTPUT AS KPMG DID\n",
    "    intro = [\"The commenter stated that \", \"The commented further stated that \"]\n",
    "    summary_sentences = [str(intro[i]) + str(summary_sentences[i].lower()) \n",
    "                         for i in range(len(summary_sentences))]\n",
    "    summary = ' '.join(summary_sentences) \n",
    "    summary = summary.replace(\". \",\".\\n\")\n",
    "    summary = summary.replace(\"we\",\"they\")\n",
    "    return summary"
   ]
  },
  {
   "cell_type": "code",
   "execution_count": 7,
   "metadata": {},
   "outputs": [],
   "source": [
    "# source https://stackabuse.com/text-summarization-with-nltk-in-python/\n",
    "def text_summarization_nltk_model(article):\n",
    "    '''\n",
    "    input:a dataframe with the following features 1) document name (document), 2) section id (secIDin), 3) text (text) \n",
    "    output: a dataframe with features from the input plus the text summarization (2 sentences)\n",
    "    function: this function does text summarization using NLTK\n",
    "    '''\n",
    "    try:\n",
    "        article_text = \" \".join(article)\n",
    "        # Removing Square Brackets and Extra Spaces \n",
    "        article_text = re.sub(r'\\s+', ' ', article_text) \n",
    "\n",
    "        # Removing special characters and digits\n",
    "        formatted_article_text = re.sub('[^a-zA-Z]', ' ', article_text )  \n",
    "        formatted_article_text = re.sub(r'\\s+', ' ', formatted_article_text)  \n",
    "\n",
    "        sentence_list = nltk.sent_tokenize(article_text) \n",
    "\n",
    "        stopwords = nltk.corpus.stopwords.words('english')\n",
    "\n",
    "        word_frequencies = {}  \n",
    "        for word in nltk.word_tokenize(formatted_article_text):  \n",
    "            if word not in stopwords:\n",
    "                if word not in word_frequencies.keys():\n",
    "                    word_frequencies[word] = 1\n",
    "                else:\n",
    "                    word_frequencies[word] += 1\n",
    "\n",
    "        maximum_frequncy = max(word_frequencies.values())\n",
    "\n",
    "        for word in word_frequencies.keys():  \n",
    "            word_frequencies[word] = (word_frequencies[word]/maximum_frequncy)\n",
    "\n",
    "\n",
    "        sentence_scores = {}  \n",
    "        for sent in sentence_list:  \n",
    "            for word in nltk.word_tokenize(sent.lower()):\n",
    "                if word in word_frequencies.keys():\n",
    "                    if len(sent.split(' ')) < 30:\n",
    "                        if sent not in sentence_scores.keys():\n",
    "                            sentence_scores[sent] = word_frequencies[word]\n",
    "                        else:\n",
    "                            sentence_scores[sent] += word_frequencies[word]\n",
    "\n",
    "        summary_sentences = heapq.nlargest(2, sentence_scores, key=sentence_scores.get)\n",
    "        summary = format_summary(summary_sentences)\n",
    "                \n",
    "    except:\n",
    "        summary = article\n",
    "            \n",
    "    return summary"
   ]
  },
  {
   "cell_type": "code",
   "execution_count": 8,
   "metadata": {
    "scrolled": false
   },
   "outputs": [],
   "source": [
    "def text_summarization_nltk(documents):\n",
    "    text = []\n",
    "    summ = []\n",
    "    sec = []\n",
    "    page = []\n",
    "    doc_name = []\n",
    "\n",
    "    for i in range(len(documents)):\n",
    "        article_text = documents.iloc[i,2]\n",
    "        text.append(article_text)\n",
    "        summ.append(text_summarization_nltk_model(article_text))\n",
    "        sec.append(documents.iloc[i,1])\n",
    "        doc_name.append(documents.iloc[i,0])\n",
    "\n",
    "    d = {\"document\":doc_name, \"secIDin\":sec,'text': text, 'summary_NLTK': summ}\n",
    "    docs = pd.DataFrame(data=d)\n",
    "    \n",
    "    return docs"
   ]
  },
  {
   "cell_type": "code",
   "execution_count": 9,
   "metadata": {},
   "outputs": [],
   "source": [
    "def text_summarization_lexRank(df_final):\n",
    "    '''\n",
    "    input:a dataframe with the following features 1) document name (document), 2) section id (secIDin), \n",
    "            3) text (text) \n",
    "    output: a dataframe with features from the input plus the text summarization (45% of the setences)\n",
    "    func: this fucntion does text summarization using Lex Rank \n",
    "    '''\n",
    "    summarizer = LexRankSummarizer()\n",
    "    \n",
    "    df_final[\"summary_Lex_Rank\"] = np.nan ## add empty column called 'Sec_Summary'\n",
    "    df_final['text'] = df_final['text'].apply(str)\n",
    "\n",
    "    for i in range(len(df_final)-1):\n",
    "        parser = PlaintextParser.from_string(df_final['text'].iloc[i], Tokenizer(\"english\"))\n",
    "        all_sentences = sent_tokenize(df_final['text'].iloc[i])\n",
    "        num_sentences = len(all_sentences)\n",
    "        n = num_sentences*0.45  ## summarize the document with 45% sentences\n",
    "        summary = summarizer(parser.document, n)\n",
    "        df_final['summary_Lex_Rank'].iloc[i] = summary\n",
    "    return df_final"
   ]
  },
  {
   "cell_type": "code",
   "execution_count": 10,
   "metadata": {},
   "outputs": [],
   "source": [
    "def text_summarization_lsa(df):\n",
    "    '''\n",
    "    input:a dataframe with the following features 1) document name (document), 2) section id (secIDin), \n",
    "            3) text (text) \n",
    "    output: a dataframe with features from the input plus the text summarization (45% of the setences)\n",
    "    func: this fucntion does text summarization using lsa \n",
    "    '''\n",
    "    summarizer_2 = LsaSummarizer()\n",
    "    df[\"summary_LSA\"] = np.nan\n",
    "\n",
    "    for i in range(len(df)-1):\n",
    "\n",
    "        parser = PlaintextParser.from_string(df['text'].iloc[i], Tokenizer(\"english\"))\n",
    "        all_sentences = sent_tokenize(df['text'].iloc[i])\n",
    "        num_sentences = len(all_sentences)\n",
    "        n = num_sentences*0.45  ## summarize the document with 45% sentences\n",
    "        summary_LSA = summarizer_2(parser.document, n)\n",
    "        df[\"summary_LSA\"].iloc[i] = summary_LSA\n",
    "    \n",
    "    return df"
   ]
  },
  {
   "cell_type": "code",
   "execution_count": 11,
   "metadata": {},
   "outputs": [],
   "source": [
    "def text_summarization_textRank(df_final):\n",
    "    summarizer_3 = TextRankSummarizer()\n",
    "\n",
    "    df_final[\"summary_TextRank\"] = np.nan\n",
    "\n",
    "    for i in range(len(df_final)-1):\n",
    "\n",
    "        parser = PlaintextParser.from_string(df_final['text'].iloc[i], Tokenizer(\"english\"))\n",
    "        all_sentences = sent_tokenize(df_final['text'].iloc[i])\n",
    "        num_sentences = len(all_sentences)\n",
    "        n = num_sentences*0.45  ## summarize the document with 45% sentences\n",
    "        summary_TextRank = summarizer_3(parser.document, n)\n",
    "        df_final[\"summary_TextRank\"].iloc[i] = summary_TextRank\n",
    "    return df_final\n"
   ]
  },
  {
   "cell_type": "code",
   "execution_count": 12,
   "metadata": {},
   "outputs": [],
   "source": [
    "def text_summarization_luhn(df_final):\n",
    "    summarizer_1 = LuhnSummarizer()\n",
    "    df_final[\"summary_Luhn\"] = np.nan\n",
    "\n",
    "    for i in range(len(df_final)-1):\n",
    "\n",
    "        parser = PlaintextParser.from_string(df_final['text'].iloc[i], Tokenizer(\"english\"))\n",
    "        all_sentences = sent_tokenize(df_final['text'].iloc[i])\n",
    "        num_sentences = len(all_sentences)\n",
    "        n = num_sentences*0.45  ## summarize the document with 45% sentences\n",
    "        summary_Luhn = summarizer_1(parser.document, n)\n",
    "        df_final[\"summary_Luhn\"].iloc[i] =   summary_Luhn\n",
    "        \n",
    "        #df_final[\"summary_Luhn\"] = df_final[\"summary_Luhn\"].apply(lambda x: format_summary(x))\n",
    "    \n",
    "    return df_final"
   ]
  },
  {
   "cell_type": "code",
   "execution_count": 13,
   "metadata": {},
   "outputs": [
    {
     "name": "stderr",
     "output_type": "stream",
     "text": [
      "/anaconda3/lib/python3.7/site-packages/pandas/core/indexing.py:190: SettingWithCopyWarning: \n",
      "A value is trying to be set on a copy of a slice from a DataFrame\n",
      "\n",
      "See the caveats in the documentation: http://pandas.pydata.org/pandas-docs/stable/indexing.html#indexing-view-versus-copy\n",
      "  self._setitem_with_indexer(indexer, value)\n"
     ]
    }
   ],
   "source": [
    "summary = text_summarization_nltk(documents)\n",
    "summary= text_summarization_lexRank(summary)\n",
    "summary = text_summarization_lsa(summary)\n",
    "summary = text_summarization_textRank(summary)\n",
    "summary = text_summarization_luhn(summary)"
   ]
  },
  {
   "cell_type": "code",
   "execution_count": 15,
   "metadata": {},
   "outputs": [],
   "source": [
    "summary.to_csv(\"sample.csv\")"
   ]
  },
  {
   "cell_type": "code",
   "execution_count": null,
   "metadata": {},
   "outputs": [],
   "source": []
  }
 ],
 "metadata": {
  "kernelspec": {
   "display_name": "Python 3",
   "language": "python",
   "name": "python3"
  },
  "language_info": {
   "codemirror_mode": {
    "name": "ipython",
    "version": 3
   },
   "file_extension": ".py",
   "mimetype": "text/x-python",
   "name": "python",
   "nbconvert_exporter": "python",
   "pygments_lexer": "ipython3",
   "version": "3.7.1"
  }
 },
 "nbformat": 4,
 "nbformat_minor": 2
}
