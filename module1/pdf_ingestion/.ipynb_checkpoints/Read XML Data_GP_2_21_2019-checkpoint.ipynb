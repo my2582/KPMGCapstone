{
 "cells": [
  {
   "cell_type": "code",
   "execution_count": 4,
   "metadata": {},
   "outputs": [
    {
     "ename": "ModuleNotFoundError",
     "evalue": "No module named 'BeautifulSoup4'",
     "output_type": "error",
     "traceback": [
      "\u001b[0;31m---------------------------------------------------------------------------\u001b[0m",
      "\u001b[0;31mModuleNotFoundError\u001b[0m                       Traceback (most recent call last)",
      "\u001b[0;32m<ipython-input-4-385b4bb858b9>\u001b[0m in \u001b[0;36m<module>\u001b[0;34m\u001b[0m\n\u001b[1;32m      3\u001b[0m \u001b[0;32mimport\u001b[0m \u001b[0mmatplotlib\u001b[0m\u001b[0;34m.\u001b[0m\u001b[0mpyplot\u001b[0m \u001b[0;32mas\u001b[0m \u001b[0mplt\u001b[0m\u001b[0;34m\u001b[0m\u001b[0;34m\u001b[0m\u001b[0m\n\u001b[1;32m      4\u001b[0m \u001b[0;32mimport\u001b[0m \u001b[0mseaborn\u001b[0m \u001b[0;32mas\u001b[0m \u001b[0msns\u001b[0m\u001b[0;34m\u001b[0m\u001b[0;34m\u001b[0m\u001b[0m\n\u001b[0;32m----> 5\u001b[0;31m \u001b[0;32mimport\u001b[0m \u001b[0mBeautifulSoup4\u001b[0m\u001b[0;34m\u001b[0m\u001b[0;34m\u001b[0m\u001b[0m\n\u001b[0m\u001b[1;32m      6\u001b[0m \u001b[0;34m\u001b[0m\u001b[0m\n\u001b[1;32m      7\u001b[0m \u001b[0mget_ipython\u001b[0m\u001b[0;34m(\u001b[0m\u001b[0;34m)\u001b[0m\u001b[0;34m.\u001b[0m\u001b[0mrun_line_magic\u001b[0m\u001b[0;34m(\u001b[0m\u001b[0;34m'matplotlib'\u001b[0m\u001b[0;34m,\u001b[0m \u001b[0;34m'inline'\u001b[0m\u001b[0;34m)\u001b[0m\u001b[0;34m\u001b[0m\u001b[0;34m\u001b[0m\u001b[0m\n",
      "\u001b[0;31mModuleNotFoundError\u001b[0m: No module named 'BeautifulSoup4'"
     ]
    }
   ],
   "source": [
    "import pandas as pd\n",
    "import numpy as np\n",
    "import matplotlib.pyplot as plt\n",
    "import seaborn as sns\n",
    "import BeautifulSoup4 \n",
    "\n",
    "%matplotlib inline"
   ]
  },
  {
   "cell_type": "code",
   "execution_count": 5,
   "metadata": {},
   "outputs": [
    {
     "name": "stdout",
     "output_type": "stream",
     "text": [
      "\r\n",
      "CommandNotFoundError: No command 'conda environment'.\r\n",
      "\r\n"
     ]
    }
   ],
   "source": [
    "!conda environment"
   ]
  },
  {
   "cell_type": "code",
   "execution_count": 2,
   "metadata": {},
   "outputs": [
    {
     "name": "stdout",
     "output_type": "stream",
     "text": [
      "Requirement already satisfied: BeautifulSoup4 in /Users/pranjalbajaj/anaconda3/envs/kpmgcapstone/lib/python3.7/site-packages (4.5.3)\r\n"
     ]
    }
   ],
   "source": [
    "!pip install BeautifulSoup4"
   ]
  },
  {
   "cell_type": "code",
   "execution_count": 2,
   "metadata": {},
   "outputs": [],
   "source": [
    "import xml.etree.ElementTree as ET\n",
    "\n",
    "e = ET.parse('CMS_2014_0115_0059.pdfx.xml')\n",
    "root = e.getroot()"
   ]
  },
  {
   "cell_type": "markdown",
   "metadata": {},
   "source": [
    "## Initialized the tree"
   ]
  },
  {
   "cell_type": "code",
   "execution_count": 3,
   "metadata": {},
   "outputs": [],
   "source": [
    "import xml.etree.ElementTree as ET\n",
    "\n",
    "tree = ET.parse('CMS_2014_0115_0059.pdfx.xml')\n",
    "root = tree.getroot()"
   ]
  },
  {
   "cell_type": "markdown",
   "metadata": {},
   "source": [
    "### Every part of a tree (root included) has a tag that describes the element.  Attributes also help to validate values entered for that tag, once again contributing to the structured format of an XML."
   ]
  },
  {
   "cell_type": "code",
   "execution_count": 4,
   "metadata": {},
   "outputs": [
    {
     "data": {
      "text/plain": [
       "'pdfx'"
      ]
     },
     "execution_count": 4,
     "metadata": {},
     "output_type": "execute_result"
    }
   ],
   "source": [
    "root.tag"
   ]
  },
  {
   "cell_type": "code",
   "execution_count": null,
   "metadata": {},
   "outputs": [],
   "source": [
    "for child in root:\n",
    "    print(child.tag, child.attrib)"
   ]
  },
  {
   "cell_type": "code",
   "execution_count": 6,
   "metadata": {
    "scrolled": true
   },
   "outputs": [
    {
     "data": {
      "text/plain": [
       "['pdfx',\n",
       " 'meta',\n",
       " 'job',\n",
       " 'base_name',\n",
       " 'doi',\n",
       " 'warning',\n",
       " 'article',\n",
       " 'front',\n",
       " 'region',\n",
       " 'image',\n",
       " 'title-group',\n",
       " 'article-title',\n",
       " 'region',\n",
       " 'body',\n",
       " 'region',\n",
       " 'marker',\n",
       " 'region',\n",
       " 'region',\n",
       " 'section',\n",
       " 'h1',\n",
       " 'region',\n",
       " 'region',\n",
       " 'region',\n",
       " 'marker',\n",
       " 'section',\n",
       " 'h1',\n",
       " 'region',\n",
       " 'marker',\n",
       " 'marker',\n",
       " 'section',\n",
       " 'h1',\n",
       " 'region',\n",
       " 'marker',\n",
       " 'region',\n",
       " 'section',\n",
       " 'h1',\n",
       " 'region',\n",
       " 'marker',\n",
       " 'marker',\n",
       " 'section',\n",
       " 'h1',\n",
       " 'region',\n",
       " 'region',\n",
       " 'section',\n",
       " 'h1',\n",
       " 'region',\n",
       " 'region',\n",
       " 'region',\n",
       " 'section',\n",
       " 'h1',\n",
       " 'region',\n",
       " 'section',\n",
       " 'h1',\n",
       " 'region',\n",
       " 'email',\n",
       " 'region',\n",
       " 'region',\n",
       " 'image',\n",
       " 'region']"
      ]
     },
     "execution_count": 6,
     "metadata": {},
     "output_type": "execute_result"
    }
   ],
   "source": [
    "[elem.tag for elem in root.iter()]"
   ]
  },
  {
   "cell_type": "code",
   "execution_count": 7,
   "metadata": {},
   "outputs": [
    {
     "name": "stdout",
     "output_type": "stream",
     "text": [
      "<?xml version='1.0' encoding='utf8'?>\n",
      "<pdfx xmlns:xsi=\"http://www.w3.org/2001/XMLSchema-instance\" xsi:noNamespaceSchemaLocation=\"http://pdfx.cs.man.ac.uk/static/article-schema.xsd\">\n",
      "  <meta>\n",
      "    <job>384b90cc5543ca5ef2562f361c63bca4234125498995966015e26328642cb6e2</job>\n",
      "    <base_name>1c3j</base_name>\n",
      "    <doi>http://dx.doi.org/10.1162/octo_a_00311</doi>\n",
      "    <warning>Name identification was not possible. </warning>\n",
      "  </meta>\n",
      "  <article>\n",
      "    <front class=\"DoCO:FrontMatter\">\n",
      "      <region class=\"DoCO:FigureBox\" id=\"Fx1\">\n",
      "        <image class=\"DoCO:Figure\" src=\"1c3j.page_001.image_01.png\" thmb=\"1c3j.page_001.image_01-thumb.png\" />\n",
      "      </region>\n",
      "      <title-group>\n",
      "        <article-title class=\"DoCO:Title\" id=\"2\">October 10, 2014</article-title>\n",
      "      </title-group>\n",
      "      <region class=\"DoCO:TextChunk\" confidence=\"possible\" id=\"3\">Centers for Medicare &amp; Medicaid Services Department of Health and Human Services Attention: CMS-9968-P P.O. Box 8013 Baltimore, MD 21244-1850 Re: Nationwide Life Insurance Company’s c omments on separate contraceptive-only policies for students of religious institutions To Whom It May Concern:</region>\n",
      "    </front>\n",
      "    <body class=\"DoCO:BodyMatter\">\n",
      "      <region class=\"DoCO:TextChunk\" column=\"1\" id=\"5\" page=\"1\">On behalf of Nationwide Life Insurance Company (“Nationwide”) and its affiliated companies, we appreciate the opportunity to provide comments in response to CMS – 9940 – Pin which the Internal Revenue Service (“IRS”), Employee Benefits Security Administration (“EBSA”), and the Department of Health and Human Services (“HHS”) solicited comments on its proposed rule concerning the coverage of certain preventive services under the Patient Protection and Affordable Care Act (“ACA”). Nationwide currently has the fou rth largest share of the student health insurance plan ( “ SHIP ” ) market and insures over 130,000 undergraduate, graduate, and international students at 183 colleges and universities throughout the U.S. We do not offer any other group or individual major medical health policies in any market. <marker type=\"block\" /> The Departments asked for input regarding the proposed requirement for SHIP issuers to automatically enroll covered students and beneficiaries attending religious institutions of higher education in a separate individual health insurance policy for contraceptive services (Federal Register, Vol. 79, No. 166, Pg. 51118). Nationwide proposes that religious institutions of higher education should be completely exempt from offering contraceptive coverage if it goes against their religious tenants and that SHIP issuers should not be required to automatically enroll those students into a separate health plan purely for contraceptive service purposes. Nationwide also suggests alternatives for the Departments to consider that would still provide students of religious institutions access to free contraceptives without placing additional burdens on religious institutions, SHIP issuers, or the students themselves. Please consider the following points, fully explained below:</region>\n",
      "      <region class=\"DoCO:TextChunk\" column=\"1\" confidence=\"possible\" id=\"6\" page=\"1\">I. Providing contraceptive coverage in the student market is not cost neutral and imposes a significant administrative burden upon all parties. II. Students enrolled in a religious institution of higher education may not wish to be automatically enrolled in a contraceptive-only health plan. III. It is impossible to completely insulate religious institutions of higher education from partaking in providing contraceptive coverage to its students if the same</region>\n",
      "      <region class=\"DoCO:TextChunk\" column=\"1\" confidence=\"possible\" id=\"7\" page=\"2\">SHIP it contracts with for general student health must also provide contraceptive coverage via individual policies. IV. Requiring SHIP issuers to provide free contraceptive coverage via individual policies is contrary to basic contract law. V. Request for clarity: The proposed rule seems to distinguish between the full range of FDA approved contraception and certain contraception services. Is there more clarity which can be drawn by the Departments or the eligible entity? VI. Proposed solution: Utilize the Exchanges to provide free contraceptive coverage to students attending religious institutions. VII. Proposed Solution: Give the covered student an above line reimbursement on their federal income taxes for all costs incurred for non-covered contraception methods.</region>\n",
      "      <section class=\"DoCO:Section\">\n",
      "        <h1 class=\"DoCO:SectionTitle\" column=\"1\" id=\"8\" page=\"2\">I. Providing contraceptive coverage in the student market is not cost neutral and imposes a significant administrative burden upon all parties.</h1>\n",
      "        <region class=\"DoCO:TextChunk\" column=\"1\" id=\"9\" page=\"2\">The Department’s basic premise that “issuers generally would find that providing such contraceptive coverage is cost neutral” is in error (Federal Register, Vol. 78, No. 25, Pg. 8463). Economic, actuarial, and administrative data prove otherwise. A February 2012 publication by the Office of the Assistant Secretary for Planning and Evaluation (ASPE) entitled The Cost of Covering Contraceptives through Health Insurance found that the actual cost of adding contraceptives with no cost sharing to an existing plan is between $21 and $41 annually per insured, as determined by three separate actuarial companies. Adjusted for inflation, using 8% medical trend per year this equates to $26-$52 annually. In the SHIP arena with average policies of about $1600, this would be result in a 2-3.5 % increase in rate. It is important to note that the $26-$52 estimated price is only to add contraceptives to an existing plan – the proposed rules require a SHIP carrier to enroll students and beneficiaries into an additional, separate individual health insurance policy. The cost of underwriting, implementing, filing, and administering this distinct policy is significantly higher than just adding a feature to an existing plan. Specifically, some of the unfunded costs the insurance carrier will incur are as follows: 1. Obtain the proper licenses and authority in each state to issue individual health insurance policies. Carriers who are not currently individual health carriers (like Nationwide) will require extensive filings with each state. This will result in costs for preparing filings, paying mandated fees, responding to questions from the state Departments of Insurance, and maintaining licensing. 2. Develop and file an individual policy in each state to cover the required benefits. Cost and time requirement will be more extensive than those noted above. 3. Train and pay filing costs for registering agents and brokers to sell individual health policies. 4. License TPAs to sell insurance. Since TPAs typically do not sell insurance and thus are not licensed to do so, they must become licensed in each state in order to direct each student to a separate contraceptive-only health policy. 5. Maintain policy filings. 6. Maintain eligibility files for insureds. 7. Printing, issuing and mailing of policies. 8. Hire additional customer service staff to assist the insureds with questions. 9. Partner with a new, or add responsibilities to current TPAs to administer this policy.</region>\n",
      "        <region class=\"DoCO:TextChunk\" column=\"1\" confidence=\"possible\" id=\"10\" page=\"3\">10. Additional reporting requirements to HHS on enrollment, costs, etc. 11. Costs of the drugs. 12. Pharmacy costs for dispensing the drugs. 13. Personnel costs to process the claims. 14. Physician costs for doctor visits to write prescriptions and follow-up visits to monitor the patient. 15. Physician, surgeon, anesthesiologist, and laboratory costs; inpatient and outpatient clinic and hospital costs for elective sterilization procedures. 16. Physician and equipment costs for insertion of IUDs, diaphragms, cervical caps. 17. Physician and pharmacy costs for administration of contraceptive shots, patches and implants.</region>\n",
      "        <region class=\"DoCO:TextChunk\" column=\"1\" id=\"12\" page=\"3\">Thus, the total cost of enrolling students and their beneficiaries into a separate individual contraceptive-only health policy is high. Unless the government reinsures this “free” coverage and its administration, the costs will ultimately be passed on to all SHIP customers, both religious and non-religious entities. Due to medical loss ratio requirements, a carrier’s ability to sp read and therefore cover their costs will be limited. As such, if an insurance carrier receives no premium to off-set some of these costs, many will be forced to make the decision to either (a) refuse coverage to religious institutions since doing so would jeopardize their fiduciary responsibility to all their insureds, or (b) exit the SHIP market altogether. Even self-insured religious institutions will have difficulty finding TPAs willing and able to service their plans. Either way, religious institutions will likely lose a lot of SHIP carrier/TPA options and will no longer enjoy the benefits of a competitive market when it comes to pricing. In addition, students attending those institutions will lose their access to affordable student health coverage. <marker type=\"block\" /> There is also no merit to the Department’s assertion that a decrease in overall pregnancy claims will offset the increase in cost for contraceptives within the SHIP market. Prior to ACA, SHIPs typically included low limits for prescription medications, if they were offered at all. This demographic of college students, especially those who attend religious institutions, traditionally have very low rates of unintended pregnancies to begin with. Student plans are short term in nature since coverage ends when they leave school. Any presumed cost benefits of fewer births would not be realized to the extent they would in employer group plans. These proposed rules are now adding contraceptive coverage to a demographic that did not have the benefit in the past, and any decrease in overall pregnancy claims will be minimal at best.</region>\n",
      "      </section>\n",
      "      <section class=\"DoCO:Section\">\n",
      "        <h1 class=\"DoCO:SectionTitle\" column=\"1\" id=\"13\" page=\"3\">II. Students enrolled in a religious institution of higher education may not wish to be automatically enrolled in a contraceptive-only health plan.</h1>\n",
      "        <region class=\"DoCO:TextChunk\" column=\"1\" id=\"15\" page=\"3\">Students who choose to attend a religious institution of higher learning do so for a reason, and most of the time, these students strongly believe and share in the religious convictions of their chosen institution. Therefore, many who attend anti-contraceptive institutions may not wish to be or may even be extremely offended by being automatically enrolled in an individual contraceptive-only policy. It will simply be a waste of resources for all parties involved if an issuer creates, determines eligibility, and enrolls all students into an individual health policy, just for the student to immediately cancel. <marker number=\"4\" type=\"page\" /><marker type=\"block\" /> Students attending religious institutions are aware of the religious doctrines the school has employed as part of their daily lives. Just like the decision-making process to attend any school, students are acutely aware of the positives and negatives of attending a religious institution. If access to free contraceptives is a desire or need for a student, they have the freedom to choose a different institution, or attend that scho ol but stay on a parent’s health insurance rather than participating in the SHIP. Conversely, if the student is not automatically enrolled in the contraceptive-only policy and has to seek out information to become enrolled or their information becomes known to the school through enrollment and subsequent reporting requirements this could lead to a breach of the students’ privacy.</region>\n",
      "      </section>\n",
      "      <section class=\"DoCO:Section\">\n",
      "        <h1 class=\"DoCO:SectionTitle\" column=\"1\" id=\"16\" page=\"4\">III. It is impossible to completely insulate religious institutions of higher education from partaking in providing contraceptive coverage to its students if the same SHIP it contracts with for general student health must also provide contraceptive coverage via individual policies.</h1>\n",
      "        <region class=\"DoCO:TextChunk\" column=\"1\" id=\"18\" page=\"4\">In the proposed rules, the Departments state, “the eligible organization would have no role in contracting, arranging, paying, or referring for this separate contraceptive coverage” (Federal Register, Vol. 79, No. 166, Pg. 51118). This is unattainable and unrealistic. Even if SHIP issuers provide separate individual contraceptive-only coverage to students, religious institutions of higher education must still be involved in the day-to-day administration of these policies and will be forced to partake in providing this benefit against their will. <marker type=\"block\" /> In order for a SHIP issuer to offer contraceptive coverage on an individual basis, the institution must first identify the individual students who want this coverage, or at a minimum, direct all students to the issuer when they inquire about contraceptive coverage. Further, in order to ensure that all eligible individuals have access to this coverage, religious institutions will be required to provide eligibility files to the carriers for the sole purpose of providing contraceptive coverage. Religious institutions will also have to consistently work directly with the SHIP carrier to provide them and/or third- party administrators (“TPA”) with up-to-date contact information for all students. Actual student addresses are not routinely collected for SHIPs because the insurance contract is with the institution and since students frequently change residences while in school, usually only the school administration has the current address and contact information for students.</region>\n",
      "        <region class=\"DoCO:TextChunk\" column=\"1\" confidence=\"possible\" id=\"19\" page=\"4\">Religious institutions must constantly aid the issuer in contracting, arranging, and referring students to them and responding to inquiries from the issuer to obtain the most current contact information for each student. Thus, the religious entity is still deeply involved in providing these benefits to its students.</region>\n",
      "      </section>\n",
      "      <section class=\"DoCO:Section\">\n",
      "        <h1 class=\"DoCO:SectionTitle\" column=\"1\" id=\"20\" page=\"4\">IV. Requiring SHIP issuers to provide free contraceptive coverage via individual policies is contrary to basic contract law.</h1>\n",
      "        <region class=\"DoCO:TextChunk\" column=\"1\" id=\"22\" page=\"4\">An issued health insurance policy is a contract between an insurance company and the insured. Contracts are binding and enforceable only when one party extends an offer, the other party accepts the offer, and adequate consideration is exchanged by both. In the context of an insurance policy, the benefits offered by the issuer in exchange for a premium paid by the insured are both adequate consideration. However, u nder the proposed rule, the “insured” is paying no premium , yet the <marker number=\"5\" type=\"page\" /><marker type=\"block\" /> SHIP issuer must still provide health coverage under the guise of a legally-executed policy. As such, neither party is contractually protected since this “agreement” is in direct conflict with general contract law.</region>\n",
      "      </section>\n",
      "      <section class=\"deo:Methods\">\n",
      "        <h1 class=\"DoCO:SectionTitle\" column=\"1\" id=\"23\" page=\"5\">V. Request for clarity: The proposed rule seems to distinguish between the “ full range of FDA approved contraception as prescribed ” and “ certain contraception services ” . Is there more clarity regarding which methods of contraception must be excluded?</h1>\n",
      "        <region class=\"DoCO:TextChunk\" column=\"1\" id=\"24\" page=\"5\">The proposed rule references methods of contraception in two seemly distinct ways. The first reference is regarding the coverage requirement for non-eligible entities which is referenced numerous times as “ Food and Drug Administration (FDA) approved contraception as prescribed by a health care provider ” . These references are made both directly and through reference to the Health Resources and Services (HRSA) guidelines. A second and distinct reference to contraceptive methods, specifically in connection with those methods to which the eligible entity may object is repeatedly referred as “certain contraceptive services”. Nationwide requests clarity on these references. Is there a method of contraception that is both required under Section 2713 of the Public Health Services Act (PHS) and which would be allowably included in the coverage offered by the eligible entity? The eligible entity filing the notice EBSA 700, the prescribed method of notice found in the interim rule, to request exclusion from the coverage requirement is in the best position to specifically name the types of contraceptive services which would be allowable, if any. Including this information on the notice would be a valuable tool in crafting an acceptable coverage agreement for both parties.</region>\n",
      "        <region class=\"DoCO:TextChunk\" column=\"1\" confidence=\"possible\" id=\"25\" page=\"5\">Nationwide also proposes two alternate solutions for students; please see below.</region>\n",
      "      </section>\n",
      "      <section class=\"DoCO:Section\">\n",
      "        <h1 class=\"DoCO:SectionTitle\" column=\"1\" id=\"26\" page=\"5\">VI. Proposed solution: Utilize the Exchanges to provide free contraceptive coverage to students attending religious institutions.</h1>\n",
      "        <region class=\"DoCO:TextChunk\" column=\"1\" confidence=\"possible\" id=\"27\" page=\"5\">Rather than require each individual SHIP carrier to provide free separate contraceptive-only coverage for students of religious institutions, Nationwide proposes that this individual policy be offered through the Exchange directly to these students. This would eliminate every one of the issues discussed above in this comment letter. Not only would the Departments reduce their administrative burden of auditing and overseeing each individual SHIP carrier, the religious entities themselves can truly be separated from the process of providing contraceptive coverage. Students will have the freedom and option to decide for themselves whether they wish to have contraceptive coverage or not, and those who do can obtain it directly themselves through the Exchange by applying and submitting the required documentation. Neither the school nor the SHIP carrier will need to undertake the burden of individually referring or contracting every student to an additional policy. The Exchange can provide this service at low or no cost by eliminating the need to file individual policies with all 50 states or register for additional licenses.</region>\n",
      "        <region class=\"DoCO:TextChunk\" column=\"1\" id=\"28\" page=\"5\">In the alternative, Nationwide suggests that if the Department’s goal is to truly promote universal access to free contraception and elective sterilization, the most cost effective means to do so would be delivery of such services through existing clinics such as Planned Parenthood or in-store pharmacy minute clinics. This would shorten the path from the goods to the consumer and result in</region>\n",
      "        <region class=\"DoCO:TextChunk\" column=\"1\" confidence=\"possible\" id=\"29\" page=\"6\">direct contraceptive access without creating a bureaucracy of insurance policies, payors, administrators, agents, Departments of Insurance compliance, etc.</region>\n",
      "      </section>\n",
      "      <section class=\"deo:Methods\">\n",
      "        <h1 class=\"DoCO:SectionTitle\" column=\"1\" id=\"30\" page=\"6\">VII. Proposed solution: Give the covered student an above line reimbursement on their federal income taxes for all costs incurred for non-covered contraception methods.</h1>\n",
      "        <region class=\"DoCO:TextChunk\" column=\"1\" id=\"31\" page=\"6\">As opposed to requiring the insurance company to craft individual insurance contracts for specific methods of contraception, of which the eligible entity would still be an unwitting participant and would potentially breach the privacy of the covered student. The Departments could allow the covered persons to submit any expenditure for those services, excluded under their plan, along with their federal tax return for a full refund. This would eliminate the requirement for insurers to craft and administer a whole new policy as well as completely remove the eligible entity from any involvement and thus protect the students’ priva cy. The burden to the federal government would be minimal as it would simply tack the requirement onto an existing function, for which there are existing guidelines.</region>\n",
      "      </section>\n",
      "      <section class=\"deo:Conclusion\">\n",
      "        <h1 class=\"DoCO:SectionTitle\" column=\"1\" id=\"32\" page=\"6\">Conclusion</h1>\n",
      "        <region class=\"DoCO:TextChunk\" column=\"1\" confidence=\"possible\" id=\"34\" page=\"6\">Nationwide respectfully proposes that SHIP issuers should not be required to automatically enroll students attending anti-contraceptive religious institutions into a separate health plan purely for certain contraceptive services. Not only is this contrary to basic contract law, it is a costly, cumbersome burden to place upon insurance carriers, TPAs, and religious institutions. Nationwide also asks that the Departments consider the above alternative options that would still provide these students access to free contraceptives while reducing administration strain and truly preventing religious institutions from having to partake in providing contraceptives. As always, we appreciate the dialogue and look forward to further opportunities to comment. Please contact Bobby Handley, Managing Counsel, at <email id=\"33\">Handleb2@nationwide.com</email> or 614-677-3869 if you would like to discuss any of these issues.</region>\n",
      "        <region class=\"DoCO:TextChunk\" column=\"1\" confidence=\"possible\" id=\"35\" page=\"6\">Very truly yours,</region>\n",
      "        <region class=\"DoCO:FigureBox\" id=\"Fx36\">\n",
      "          <image class=\"DoCO:Figure\" src=\"1c3j.page_006.image_02.png\" thmb=\"1c3j.page_006.image_02-thumb.png\" />\n",
      "        </region>\n",
      "        <region class=\"DoCO:TextChunk\" column=\"1\" confidence=\"possible\" id=\"37\" page=\"6\">Teresa Robison Director, College Segment Nationwide Innovative Solutions</region>\n",
      "      </section>\n",
      "    </body>\n",
      "  </article>\n",
      "</pdfx>\n"
     ]
    }
   ],
   "source": [
    "print(ET.tostring(root, encoding='utf8').decode('utf8'))"
   ]
  },
  {
   "cell_type": "code",
   "execution_count": 8,
   "metadata": {},
   "outputs": [
    {
     "name": "stdout",
     "output_type": "stream",
     "text": [
      "\n",
      "        \n",
      "Centers for Medicare & Medicaid Services Department of Health and Human Services Attention: CMS-9968-P P.O. Box 8013 Baltimore, MD 21244-1850 Re: Nationwide Life Insurance Company’s c omments on separate contraceptive-only policies for students of religious institutions To Whom It May Concern:\n",
      "On behalf of Nationwide Life Insurance Company (“Nationwide”) and its affiliated companies, we appreciate the opportunity to provide comments in response to CMS – 9940 – Pin which the Internal Revenue Service (“IRS”), Employee Benefits Security Administration (“EBSA”), and the Department of Health and Human Services (“HHS”) solicited comments on its proposed rule concerning the coverage of certain preventive services under the Patient Protection and Affordable Care Act (“ACA”). Nationwide currently has the fou rth largest share of the student health insurance plan ( “ SHIP ” ) market and insures over 130,000 undergraduate, graduate, and international students at 183 colleges and universities throughout the U.S. We do not offer any other group or individual major medical health policies in any market. \n",
      "I. Providing contraceptive coverage in the student market is not cost neutral and imposes a significant administrative burden upon all parties. II. Students enrolled in a religious institution of higher education may not wish to be automatically enrolled in a contraceptive-only health plan. III. It is impossible to completely insulate religious institutions of higher education from partaking in providing contraceptive coverage to its students if the same\n",
      "SHIP it contracts with for general student health must also provide contraceptive coverage via individual policies. IV. Requiring SHIP issuers to provide free contraceptive coverage via individual policies is contrary to basic contract law. V. Request for clarity: The proposed rule seems to distinguish between the full range of FDA approved contraception and certain contraception services. Is there more clarity which can be drawn by the Departments or the eligible entity? VI. Proposed solution: Utilize the Exchanges to provide free contraceptive coverage to students attending religious institutions. VII. Proposed Solution: Give the covered student an above line reimbursement on their federal income taxes for all costs incurred for non-covered contraception methods.\n",
      "The Department’s basic premise that “issuers generally would find that providing such contraceptive coverage is cost neutral” is in error (Federal Register, Vol. 78, No. 25, Pg. 8463). Economic, actuarial, and administrative data prove otherwise. A February 2012 publication by the Office of the Assistant Secretary for Planning and Evaluation (ASPE) entitled The Cost of Covering Contraceptives through Health Insurance found that the actual cost of adding contraceptives with no cost sharing to an existing plan is between $21 and $41 annually per insured, as determined by three separate actuarial companies. Adjusted for inflation, using 8% medical trend per year this equates to $26-$52 annually. In the SHIP arena with average policies of about $1600, this would be result in a 2-3.5 % increase in rate. It is important to note that the $26-$52 estimated price is only to add contraceptives to an existing plan – the proposed rules require a SHIP carrier to enroll students and beneficiaries into an additional, separate individual health insurance policy. The cost of underwriting, implementing, filing, and administering this distinct policy is significantly higher than just adding a feature to an existing plan. Specifically, some of the unfunded costs the insurance carrier will incur are as follows: 1. Obtain the proper licenses and authority in each state to issue individual health insurance policies. Carriers who are not currently individual health carriers (like Nationwide) will require extensive filings with each state. This will result in costs for preparing filings, paying mandated fees, responding to questions from the state Departments of Insurance, and maintaining licensing. 2. Develop and file an individual policy in each state to cover the required benefits. Cost and time requirement will be more extensive than those noted above. 3. Train and pay filing costs for registering agents and brokers to sell individual health policies. 4. License TPAs to sell insurance. Since TPAs typically do not sell insurance and thus are not licensed to do so, they must become licensed in each state in order to direct each student to a separate contraceptive-only health policy. 5. Maintain policy filings. 6. Maintain eligibility files for insureds. 7. Printing, issuing and mailing of policies. 8. Hire additional customer service staff to assist the insureds with questions. 9. Partner with a new, or add responsibilities to current TPAs to administer this policy.\n",
      "10. Additional reporting requirements to HHS on enrollment, costs, etc. 11. Costs of the drugs. 12. Pharmacy costs for dispensing the drugs. 13. Personnel costs to process the claims. 14. Physician costs for doctor visits to write prescriptions and follow-up visits to monitor the patient. 15. Physician, surgeon, anesthesiologist, and laboratory costs; inpatient and outpatient clinic and hospital costs for elective sterilization procedures. 16. Physician and equipment costs for insertion of IUDs, diaphragms, cervical caps. 17. Physician and pharmacy costs for administration of contraceptive shots, patches and implants.\n",
      "Thus, the total cost of enrolling students and their beneficiaries into a separate individual contraceptive-only health policy is high. Unless the government reinsures this “free” coverage and its administration, the costs will ultimately be passed on to all SHIP customers, both religious and non-religious entities. Due to medical loss ratio requirements, a carrier’s ability to sp read and therefore cover their costs will be limited. As such, if an insurance carrier receives no premium to off-set some of these costs, many will be forced to make the decision to either (a) refuse coverage to religious institutions since doing so would jeopardize their fiduciary responsibility to all their insureds, or (b) exit the SHIP market altogether. Even self-insured religious institutions will have difficulty finding TPAs willing and able to service their plans. Either way, religious institutions will likely lose a lot of SHIP carrier/TPA options and will no longer enjoy the benefits of a competitive market when it comes to pricing. In addition, students attending those institutions will lose their access to affordable student health coverage. \n",
      "Students who choose to attend a religious institution of higher learning do so for a reason, and most of the time, these students strongly believe and share in the religious convictions of their chosen institution. Therefore, many who attend anti-contraceptive institutions may not wish to be or may even be extremely offended by being automatically enrolled in an individual contraceptive-only policy. It will simply be a waste of resources for all parties involved if an issuer creates, determines eligibility, and enrolls all students into an individual health policy, just for the student to immediately cancel. \n",
      "In the proposed rules, the Departments state, “the eligible organization would have no role in contracting, arranging, paying, or referring for this separate contraceptive coverage” (Federal Register, Vol. 79, No. 166, Pg. 51118). This is unattainable and unrealistic. Even if SHIP issuers provide separate individual contraceptive-only coverage to students, religious institutions of higher education must still be involved in the day-to-day administration of these policies and will be forced to partake in providing this benefit against their will. \n",
      "Religious institutions must constantly aid the issuer in contracting, arranging, and referring students to them and responding to inquiries from the issuer to obtain the most current contact information for each student. Thus, the religious entity is still deeply involved in providing these benefits to its students.\n",
      "An issued health insurance policy is a contract between an insurance company and the insured. Contracts are binding and enforceable only when one party extends an offer, the other party accepts the offer, and adequate consideration is exchanged by both. In the context of an insurance policy, the benefits offered by the issuer in exchange for a premium paid by the insured are both adequate consideration. However, u nder the proposed rule, the “insured” is paying no premium , yet the \n",
      "The proposed rule references methods of contraception in two seemly distinct ways. The first reference is regarding the coverage requirement for non-eligible entities which is referenced numerous times as “ Food and Drug Administration (FDA) approved contraception as prescribed by a health care provider ” . These references are made both directly and through reference to the Health Resources and Services (HRSA) guidelines. A second and distinct reference to contraceptive methods, specifically in connection with those methods to which the eligible entity may object is repeatedly referred as “certain contraceptive services”. Nationwide requests clarity on these references. Is there a method of contraception that is both required under Section 2713 of the Public Health Services Act (PHS) and which would be allowably included in the coverage offered by the eligible entity? The eligible entity filing the notice EBSA 700, the prescribed method of notice found in the interim rule, to request exclusion from the coverage requirement is in the best position to specifically name the types of contraceptive services which would be allowable, if any. Including this information on the notice would be a valuable tool in crafting an acceptable coverage agreement for both parties.\n",
      "Nationwide also proposes two alternate solutions for students; please see below.\n",
      "Rather than require each individual SHIP carrier to provide free separate contraceptive-only coverage for students of religious institutions, Nationwide proposes that this individual policy be offered through the Exchange directly to these students. This would eliminate every one of the issues discussed above in this comment letter. Not only would the Departments reduce their administrative burden of auditing and overseeing each individual SHIP carrier, the religious entities themselves can truly be separated from the process of providing contraceptive coverage. Students will have the freedom and option to decide for themselves whether they wish to have contraceptive coverage or not, and those who do can obtain it directly themselves through the Exchange by applying and submitting the required documentation. Neither the school nor the SHIP carrier will need to undertake the burden of individually referring or contracting every student to an additional policy. The Exchange can provide this service at low or no cost by eliminating the need to file individual policies with all 50 states or register for additional licenses.\n",
      "In the alternative, Nationwide suggests that if the Department’s goal is to truly promote universal access to free contraception and elective sterilization, the most cost effective means to do so would be delivery of such services through existing clinics such as Planned Parenthood or in-store pharmacy minute clinics. This would shorten the path from the goods to the consumer and result in\n",
      "direct contraceptive access without creating a bureaucracy of insurance policies, payors, administrators, agents, Departments of Insurance compliance, etc.\n",
      "As opposed to requiring the insurance company to craft individual insurance contracts for specific methods of contraception, of which the eligible entity would still be an unwitting participant and would potentially breach the privacy of the covered student. The Departments could allow the covered persons to submit any expenditure for those services, excluded under their plan, along with their federal tax return for a full refund. This would eliminate the requirement for insurers to craft and administer a whole new policy as well as completely remove the eligible entity from any involvement and thus protect the students’ priva cy. The burden to the federal government would be minimal as it would simply tack the requirement onto an existing function, for which there are existing guidelines.\n",
      "Nationwide respectfully proposes that SHIP issuers should not be required to automatically enroll students attending anti-contraceptive religious institutions into a separate health plan purely for certain contraceptive services. Not only is this contrary to basic contract law, it is a costly, cumbersome burden to place upon insurance carriers, TPAs, and religious institutions. Nationwide also asks that the Departments consider the above alternative options that would still provide these students access to free contraceptives while reducing administration strain and truly preventing religious institutions from having to partake in providing contraceptives. As always, we appreciate the dialogue and look forward to further opportunities to comment. Please contact Bobby Handley, Managing Counsel, at \n",
      "Very truly yours,\n",
      "\n",
      "          \n",
      "Teresa Robison Director, College Segment Nationwide Innovative Solutions\n"
     ]
    }
   ],
   "source": [
    "for region in root.iter('region'):\n",
    "    print(region.text)"
   ]
  },
  {
   "cell_type": "markdown",
   "metadata": {},
   "source": [
    "## Parsing to Panda Data Frame"
   ]
  },
  {
   "cell_type": "code",
   "execution_count": 22,
   "metadata": {},
   "outputs": [
    {
     "name": "stdout",
     "output_type": "stream",
     "text": [
      "      ID                                               Text\n",
      "0    Fx1                                         \\n        \n",
      "1      3  Centers for Medicare & Medicaid Services Depar...\n",
      "2      5  On behalf of Nationwide Life Insurance Company...\n",
      "3      6  I. Providing contraceptive coverage in the stu...\n",
      "4      7  SHIP it contracts with for general student hea...\n",
      "5      9  The Department’s basic premise that “issuers g...\n",
      "6     10  10. Additional reporting requirements to HHS o...\n",
      "7     12  Thus, the total cost of enrolling students and...\n",
      "8     15  Students who choose to attend a religious inst...\n",
      "9     18  In the proposed rules, the Departments state, ...\n",
      "10    19  Religious institutions must constantly aid the...\n",
      "11    22  An issued health insurance policy is a contrac...\n",
      "12    24  The proposed rule references methods of contra...\n",
      "13    25  Nationwide also proposes two alternate solutio...\n",
      "14    27  Rather than require each individual SHIP carri...\n",
      "15    28  In the alternative, Nationwide suggests that i...\n",
      "16    29  direct contraceptive access without creating a...\n",
      "17    31  As opposed to requiring the insurance company ...\n",
      "18    34  Nationwide respectfully proposes that SHIP iss...\n",
      "19    35                                  Very truly yours,\n",
      "20  Fx36                                       \\n          \n",
      "21    37  Teresa Robison Director, College Segment Natio...\n"
     ]
    }
   ],
   "source": [
    "path = 'CMS_2014_0115_0059.pdfx.xml'\n",
    "dfcols = ['ID', 'Text']\n",
    "\n",
    "import xml.etree.ElementTree as et\n",
    "\n",
    "root = et.parse(path)\n",
    "rows = root.findall('.//region')\n",
    "\n",
    "## Nested list\n",
    "xml_data = [[region.get('id'), region.text] \n",
    "            for region in rows]\n",
    "\n",
    "df_xml = pd.DataFrame(xml_data, columns=dfcols)\n",
    "\n",
    "print(df_xml)\n",
    "\n",
    "df_xml.to_csv('example.csv')\n"
   ]
  },
  {
   "cell_type": "code",
   "execution_count": 21,
   "metadata": {},
   "outputs": [
    {
     "data": {
      "text/html": [
       "<div>\n",
       "<style scoped>\n",
       "    .dataframe tbody tr th:only-of-type {\n",
       "        vertical-align: middle;\n",
       "    }\n",
       "\n",
       "    .dataframe tbody tr th {\n",
       "        vertical-align: top;\n",
       "    }\n",
       "\n",
       "    .dataframe thead th {\n",
       "        text-align: right;\n",
       "    }\n",
       "</style>\n",
       "<table border=\"1\" class=\"dataframe\">\n",
       "  <thead>\n",
       "    <tr style=\"text-align: right;\">\n",
       "      <th></th>\n",
       "      <th>ID</th>\n",
       "      <th>Text</th>\n",
       "    </tr>\n",
       "  </thead>\n",
       "  <tbody>\n",
       "    <tr>\n",
       "      <th>0</th>\n",
       "      <td>Fx1</td>\n",
       "      <td>\\n</td>\n",
       "    </tr>\n",
       "    <tr>\n",
       "      <th>1</th>\n",
       "      <td>3</td>\n",
       "      <td>Centers for Medicare &amp; Medicaid Services Depar...</td>\n",
       "    </tr>\n",
       "    <tr>\n",
       "      <th>2</th>\n",
       "      <td>5</td>\n",
       "      <td>On behalf of Nationwide Life Insurance Company...</td>\n",
       "    </tr>\n",
       "    <tr>\n",
       "      <th>3</th>\n",
       "      <td>6</td>\n",
       "      <td>I. Providing contraceptive coverage in the stu...</td>\n",
       "    </tr>\n",
       "    <tr>\n",
       "      <th>4</th>\n",
       "      <td>7</td>\n",
       "      <td>SHIP it contracts with for general student hea...</td>\n",
       "    </tr>\n",
       "    <tr>\n",
       "      <th>5</th>\n",
       "      <td>9</td>\n",
       "      <td>The Department’s basic premise that “issuers g...</td>\n",
       "    </tr>\n",
       "    <tr>\n",
       "      <th>6</th>\n",
       "      <td>10</td>\n",
       "      <td>10. Additional reporting requirements to HHS o...</td>\n",
       "    </tr>\n",
       "    <tr>\n",
       "      <th>7</th>\n",
       "      <td>12</td>\n",
       "      <td>Thus, the total cost of enrolling students and...</td>\n",
       "    </tr>\n",
       "    <tr>\n",
       "      <th>8</th>\n",
       "      <td>15</td>\n",
       "      <td>Students who choose to attend a religious inst...</td>\n",
       "    </tr>\n",
       "    <tr>\n",
       "      <th>9</th>\n",
       "      <td>18</td>\n",
       "      <td>In the proposed rules, the Departments state, ...</td>\n",
       "    </tr>\n",
       "    <tr>\n",
       "      <th>10</th>\n",
       "      <td>19</td>\n",
       "      <td>Religious institutions must constantly aid the...</td>\n",
       "    </tr>\n",
       "    <tr>\n",
       "      <th>11</th>\n",
       "      <td>22</td>\n",
       "      <td>An issued health insurance policy is a contrac...</td>\n",
       "    </tr>\n",
       "    <tr>\n",
       "      <th>12</th>\n",
       "      <td>24</td>\n",
       "      <td>The proposed rule references methods of contra...</td>\n",
       "    </tr>\n",
       "    <tr>\n",
       "      <th>13</th>\n",
       "      <td>25</td>\n",
       "      <td>Nationwide also proposes two alternate solutio...</td>\n",
       "    </tr>\n",
       "    <tr>\n",
       "      <th>14</th>\n",
       "      <td>27</td>\n",
       "      <td>Rather than require each individual SHIP carri...</td>\n",
       "    </tr>\n",
       "    <tr>\n",
       "      <th>15</th>\n",
       "      <td>28</td>\n",
       "      <td>In the alternative, Nationwide suggests that i...</td>\n",
       "    </tr>\n",
       "    <tr>\n",
       "      <th>16</th>\n",
       "      <td>29</td>\n",
       "      <td>direct contraceptive access without creating a...</td>\n",
       "    </tr>\n",
       "    <tr>\n",
       "      <th>17</th>\n",
       "      <td>31</td>\n",
       "      <td>As opposed to requiring the insurance company ...</td>\n",
       "    </tr>\n",
       "    <tr>\n",
       "      <th>18</th>\n",
       "      <td>34</td>\n",
       "      <td>Nationwide respectfully proposes that SHIP iss...</td>\n",
       "    </tr>\n",
       "    <tr>\n",
       "      <th>19</th>\n",
       "      <td>35</td>\n",
       "      <td>Very truly yours,</td>\n",
       "    </tr>\n",
       "    <tr>\n",
       "      <th>20</th>\n",
       "      <td>Fx36</td>\n",
       "      <td>\\n</td>\n",
       "    </tr>\n",
       "    <tr>\n",
       "      <th>21</th>\n",
       "      <td>37</td>\n",
       "      <td>Teresa Robison Director, College Segment Natio...</td>\n",
       "    </tr>\n",
       "  </tbody>\n",
       "</table>\n",
       "</div>"
      ],
      "text/plain": [
       "      ID                                               Text\n",
       "0    Fx1                                         \\n        \n",
       "1      3  Centers for Medicare & Medicaid Services Depar...\n",
       "2      5  On behalf of Nationwide Life Insurance Company...\n",
       "3      6  I. Providing contraceptive coverage in the stu...\n",
       "4      7  SHIP it contracts with for general student hea...\n",
       "5      9  The Department’s basic premise that “issuers g...\n",
       "6     10  10. Additional reporting requirements to HHS o...\n",
       "7     12  Thus, the total cost of enrolling students and...\n",
       "8     15  Students who choose to attend a religious inst...\n",
       "9     18  In the proposed rules, the Departments state, ...\n",
       "10    19  Religious institutions must constantly aid the...\n",
       "11    22  An issued health insurance policy is a contrac...\n",
       "12    24  The proposed rule references methods of contra...\n",
       "13    25  Nationwide also proposes two alternate solutio...\n",
       "14    27  Rather than require each individual SHIP carri...\n",
       "15    28  In the alternative, Nationwide suggests that i...\n",
       "16    29  direct contraceptive access without creating a...\n",
       "17    31  As opposed to requiring the insurance company ...\n",
       "18    34  Nationwide respectfully proposes that SHIP iss...\n",
       "19    35                                  Very truly yours,\n",
       "20  Fx36                                       \\n          \n",
       "21    37  Teresa Robison Director, College Segment Natio..."
      ]
     },
     "execution_count": 21,
     "metadata": {},
     "output_type": "execute_result"
    }
   ],
   "source": [
    "df_xml"
   ]
  },
  {
   "cell_type": "code",
   "execution_count": null,
   "metadata": {},
   "outputs": [],
   "source": []
  }
 ],
 "metadata": {
  "kernelspec": {
   "display_name": "Python 3",
   "language": "python",
   "name": "python3"
  },
  "language_info": {
   "codemirror_mode": {
    "name": "ipython",
    "version": 3
   },
   "file_extension": ".py",
   "mimetype": "text/x-python",
   "name": "python",
   "nbconvert_exporter": "python",
   "pygments_lexer": "ipython3",
   "version": "3.7.1"
  }
 },
 "nbformat": 4,
 "nbformat_minor": 2
}
