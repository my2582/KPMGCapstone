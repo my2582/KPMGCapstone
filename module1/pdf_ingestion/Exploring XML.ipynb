{
 "cells": [
  {
   "cell_type": "code",
   "execution_count": 1,
   "metadata": {},
   "outputs": [],
   "source": [
    "from xml.dom import minidom"
   ]
  },
  {
   "cell_type": "markdown",
   "metadata": {},
   "source": [
    "#### Try 1"
   ]
  },
  {
   "cell_type": "code",
   "execution_count": 2,
   "metadata": {},
   "outputs": [],
   "source": [
    "mydoc = minidom.parse('../../../CMS_2014_0115_0059.pdfx.xml')"
   ]
  },
  {
   "cell_type": "code",
   "execution_count": 5,
   "metadata": {},
   "outputs": [
    {
     "data": {
      "text/plain": [
       "<xml.dom.minidom.Document at 0x10cf937c8>"
      ]
     },
     "execution_count": 5,
     "metadata": {},
     "output_type": "execute_result"
    }
   ],
   "source": [
    "mydoc "
   ]
  },
  {
   "cell_type": "code",
   "execution_count": 3,
   "metadata": {},
   "outputs": [],
   "source": [
    "items = mydoc.getElementsByTagName('item')"
   ]
  },
  {
   "cell_type": "code",
   "execution_count": 4,
   "metadata": {},
   "outputs": [
    {
     "data": {
      "text/plain": [
       "[]"
      ]
     },
     "execution_count": 4,
     "metadata": {},
     "output_type": "execute_result"
    }
   ],
   "source": [
    "items"
   ]
  },
  {
   "cell_type": "markdown",
   "metadata": {},
   "source": [
    "#### Try 2"
   ]
  },
  {
   "cell_type": "code",
   "execution_count": 7,
   "metadata": {},
   "outputs": [],
   "source": [
    "datasource = open('../../../CMS_2014_0115_0059.pdfx.xml')"
   ]
  },
  {
   "cell_type": "code",
   "execution_count": 9,
   "metadata": {},
   "outputs": [],
   "source": [
    "mydoc = minidom.parse(datasource)  "
   ]
  },
  {
   "cell_type": "code",
   "execution_count": 10,
   "metadata": {},
   "outputs": [
    {
     "name": "stdout",
     "output_type": "stream",
     "text": [
      "Item #2 attribute:\n",
      "{}\n",
      "\n",
      "All attributes:\n",
      "{}\n",
      "{}\n",
      "{}\n",
      "{}\n",
      "{'class': 'DoCO:FrontMatter'}\n",
      "{'class': 'DoCO:BodyMatter'}\n",
      "\n",
      "Item #2 data:\n",
      "1c3j\n",
      "\n",
      "All item data:\n",
      "384b90cc5543ca5ef2562f361c63bca4234125498995966015e26328642cb6e2\n",
      "1c3j\n",
      "http://dx.doi.org/10.1162/octo_a_00311\n",
      "Name identification was not possible. \n",
      "\n",
      "      \n",
      "\n",
      "      \n"
     ]
    }
   ],
   "source": [
    "import xml.etree.ElementTree as ET  \n",
    "tree = ET.parse('../../../CMS_2014_0115_0059.pdfx.xml')  \n",
    "root = tree.getroot()\n",
    "\n",
    "# one specific item attribute\n",
    "print('Item #2 attribute:')  \n",
    "print(root[0][1].attrib)\n",
    "\n",
    "# all item attributes\n",
    "print('\\nAll attributes:')  \n",
    "for elem in root:  \n",
    "    for subelem in elem:\n",
    "        print(subelem.attrib)\n",
    "\n",
    "# one specific item's data\n",
    "print('\\nItem #2 data:')  \n",
    "print(root[0][1].text)\n",
    "\n",
    "# all items data\n",
    "print('\\nAll item data:')  \n",
    "for elem in root:  \n",
    "    for subelem in elem:\n",
    "        print(subelem.text)"
   ]
  }
 ],
 "metadata": {
  "kernelspec": {
   "display_name": "Python 3",
   "language": "python",
   "name": "python3"
  },
  "language_info": {
   "codemirror_mode": {
    "name": "ipython",
    "version": 3
   },
   "file_extension": ".py",
   "mimetype": "text/x-python",
   "name": "python",
   "nbconvert_exporter": "python",
   "pygments_lexer": "ipython3",
   "version": "3.7.1"
  }
 },
 "nbformat": 4,
 "nbformat_minor": 2
}
