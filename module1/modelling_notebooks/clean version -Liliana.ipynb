{
 "cells": [
  {
   "cell_type": "markdown",
   "metadata": {},
   "source": [
    "## PDF to HTML"
   ]
  },
  {
   "cell_type": "code",
   "execution_count": null,
   "metadata": {},
   "outputs": [],
   "source": [
    "%%time\n",
    "# PDF to HTML\n",
    "# https://sourceforge.net/projects/pdftohtml/\n",
    "# https://www.experts-exchange.com/videos/59892/Xpdf-PDFtoHTML-Command-Line-Utility-to-Convert-a-PDF-File-to-HTML.html\n",
    "# https://www.xpdfreader.com/download.html\n",
    "\n",
    "# make sure to have a folder named \"pdf_files\" with the pdfs\n",
    "# make sure to have an empty folder named \"html_files\"\n",
    "import os\n",
    "echo = \"pdftohtml\"\n",
    "for filename in os.listdir(\"pdf_files\"):\n",
    "    if filename.endswith(\"pdf\"):\n",
    "        #print(filename)\n",
    "        file_pdf = \"pdf_files/\" + filename\n",
    "        file_html = \"html_files/\" + filename\n",
    "        #os.system(echo+\" \"+file_pdf+\" \"+file_html) "
   ]
  },
  {
   "cell_type": "markdown",
   "metadata": {},
   "source": [
    "## creates table of features"
   ]
  },
  {
   "cell_type": "code",
   "execution_count": 1,
   "metadata": {},
   "outputs": [],
   "source": [
    "import codecs\n",
    "from bs4 import BeautifulSoup\n",
    "import cssutils\n",
    "import pandas as pd\n",
    "import os"
   ]
  },
  {
   "cell_type": "code",
   "execution_count": 2,
   "metadata": {},
   "outputs": [],
   "source": [
    "def style_dict(style_tem):\n",
    "    '''\n",
    "    stores features in a dictionary \n",
    "    '''\n",
    "    style_tem = style_tem[:-1]\n",
    "    style_dic = dict(item.split(\":\") for item in style_tem.split(\";\"))\n",
    "    return style_dic\n",
    "\n",
    "def css_style(soup):\n",
    "    '''\n",
    "    reads information from css in html\n",
    "    '''\n",
    "    selectors = {}\n",
    "    for styles in soup.select('style'):\n",
    "        css = cssutils.parseString(styles.encode_contents())\n",
    "        for rule in css:\n",
    "            if rule.type == rule.STYLE_RULE:\n",
    "                style = rule.selectorText\n",
    "                selectors[style] = {}\n",
    "                for item in rule.style:\n",
    "                    propertyname = item.name\n",
    "                    value = item.value\n",
    "                    selectors[style][propertyname] = value\n",
    "\n",
    "    dict_css = {key.strip('#'): item for key, item in selectors.items()}\n",
    "    return dict_css\n",
    "\n",
    "def extract_features(path):\n",
    "    '''\n",
    "    Extract all the features from html files\n",
    "    '''\n",
    "    with open(path) as raw_resuls:\n",
    "        results = BeautifulSoup(raw_resuls, 'lxml')\n",
    "    \n",
    "    dict_css = css_style(results)\n",
    "    lines = []\n",
    "    text = []\n",
    "    for element in results.find_all(\"body\"):\n",
    "        for stat in element.find_all(\"div\"):\n",
    "            data={}\n",
    "            # gets the info from <div>\n",
    "            div_dic = stat.attrs\n",
    "            data.update(div_dic)\n",
    "\n",
    "            # gets info from <span>\n",
    "            span_dic = stat.find('span').attrs\n",
    "            data.update(span_dic)\n",
    "\n",
    "            # gets the features from style in <div> \"USING SPAN\"\n",
    "            style_ = span_dic.get('style')\n",
    "            style_span = style_dict(style_)\n",
    "            data.update(style_span)\n",
    "\n",
    "            # gets features of the font from css \n",
    "            font = span_dic.get('id')\n",
    "            temp = dict_css.get(font)\n",
    "            data.update(temp)\n",
    "\n",
    "            # gets the features from style in <div> \"USING DIV\"\n",
    "            style_ = div_dic.get('style')\n",
    "            style_temp = style_dict(style_)\n",
    "            #print(style_temp)\n",
    "            data.update(style_temp)\n",
    "            \n",
    "            d = pd.DataFrame.from_dict(data)\n",
    "            \n",
    "            text.append(stat.text)\n",
    "            lines.append(d)\n",
    "\n",
    "    dataframe = pd.concat(lines, axis=0).reset_index(drop=1)\n",
    "    dataframe[\"text\"] = pd.Series( (v for v in text))\n",
    "    \n",
    "    return dataframe"
   ]
  },
  {
   "cell_type": "code",
   "execution_count": 59,
   "metadata": {},
   "outputs": [],
   "source": [
    "def is_date(string):\n",
    "    try: \n",
    "        parse(string)\n",
    "        return True\n",
    "    except ValueError:\n",
    "        return False\n",
    "    \n",
    "def color_match(x):\n",
    "    '''\n",
    "    finds the color of the font\n",
    "    '''\n",
    "    def closest_color(requested_color):\n",
    "        #from stackoverflow function\n",
    "        min_colors = {}\n",
    "        for key, name in webcolors.css3_hex_to_names.items():\n",
    "            r_c, g_c, b_c = webcolors.hex_to_rgb(key)\n",
    "            rd = (r_c - requested_color[0]) ** 2\n",
    "            gd = (g_c - requested_color[1]) ** 2\n",
    "            bd = (b_c - requested_color[2]) ** 2\n",
    "            min_colors[(rd + gd + bd)] = name\n",
    "        return min_colors[min(min_colors.keys())]\n",
    "    \n",
    "    temp = re.sub(\"[r\\rgba\\()]\", '', x)\n",
    "    c = [int(s) for s in temp.split(',') if s.isdigit()]\n",
    "    requested_color = (c[0],c[1],c[2])\n",
    "    color_name = closest_color(requested_color)\n",
    "    return color_name\n",
    "\n",
    "def find_ngrams(input_list, n):\n",
    "    '''\n",
    "    find ngrams of each line\n",
    "    '''\n",
    "    ngrams = list(zip(*[input_list[i:] for i in range(n)]))\n",
    "    try:\n",
    "        ngrams = str(ngrams[0])\n",
    "        ngrams = re.sub(r'[^\\w\\s]+', '',ngrams)\n",
    "    except:\n",
    "        ngrams = np.nan\n",
    "    return ngrams\n",
    "\n",
    "def most_freq(df):\n",
    "    '''\n",
    "    input : dataframe\n",
    "    Returns the linespace most frequent. This can help us identify paragraphs and titles.\n",
    "    '''\n",
    "    freq_LST = df[[\"document\",\"page\",\n",
    "                         \"LST\"]].groupby([\"document\",\"page\",\"LST\"])[\"LST\"].count().reset_index(name='count')\n",
    "    freq_LST = freq_LST.groupby([\"document\",\"page\"])[\"count\"].max().reset_index(name='freq_LST')\n",
    "    \n",
    "    freq_FS = df[[\"document\",\"page\",\n",
    "                         \"font-size\"]].groupby([\"document\",\"page\",\"font-size\"])[\"font-size\"].count().reset_index(name='count')\n",
    "    freq_FS = freq_FS.groupby([\"document\",\"page\"])[\"count\"].max().reset_index(name='freq_font_size')\n",
    "    \n",
    "    freq_RS = df[[\"document\",\"page\",\n",
    "                         'num_letters']].groupby([\"document\",\"page\"])[\"num_letters\"].mean().reset_index(name='count')\n",
    "    freq_RS = freq_RS.groupby([\"document\",\"page\"])[\"count\"].max().reset_index(name='freq_row_size')\n",
    "\n",
    "    data_frames = [freq_LST,freq_FS,freq_RS]\n",
    "    freq  = reduce(lambda  left,right: pd.merge(left,right,on=[\"document\",\"page\"],\n",
    "                                            how='outer'), data_frames)\n",
    "    return freq\n",
    "\n",
    "\n",
    "def section_ids(df):\n",
    "    ''' \n",
    "    input data frame with the following columns document, page, Class\n",
    "    this will extract the section if once the row is tagged\n",
    "    '''\n",
    "    \n",
    "    secID_in = []\n",
    "    for doc in df[\"document\"].unique():\n",
    "        temp = df[df[\"document\"]==doc]\n",
    "        j = 1\n",
    "        for i in range(len(temp)):\n",
    "            if temp.iloc[i,2] == 1.0:\n",
    "                secID_in.append((temp.iloc[i,0],temp.iloc[i,1],temp.iloc[i,2],j))\n",
    "                j+=1\n",
    "            elif temp.iloc[i,2] == 0.0:\n",
    "                secID_in.append((temp.iloc[i,0],temp.iloc[i,1],temp.iloc[i,2],0))\n",
    "            else:\n",
    "                secID_in.append((temp.iloc[i,0],temp.iloc[i,1],temp.iloc[i,2],np.nan))\n",
    "\n",
    "    id1 = pd.DataFrame(secID_in, columns =[\"document\",\"page\",\"Class\",\"secIDin\"])\n",
    "\n",
    "    secID_all = []\n",
    "    j = 1\n",
    "    for i in range(len(df)):\n",
    "        if df.iloc[i,2] == 1.0:\n",
    "            secID_all.append((df.iloc[i,0],df.iloc[i,1],df.iloc[i,2],j))\n",
    "            j+=1\n",
    "        elif df.iloc[i,2] == 0.0:\n",
    "            secID_all.append((df.iloc[i,0],df.iloc[i,1],df.iloc[i,2],0))\n",
    "        else:\n",
    "            secID_all.append((df.iloc[i,0],df.iloc[i,1],df.iloc[i,2],np.nan))\n",
    "\n",
    "    id2 = pd.DataFrame(secID_all, columns =[\"document\",\"page\",\"Class\",\"secIDall\"])  \n",
    "\n",
    "    sections = pd.merge(id1, id2,left_index=True, right_index=True, on=[\"document\",\"page\",\"Class\"])\n",
    "    return sections\n",
    "\n",
    "\n",
    "def one_hot(df,colname):\n",
    "    '''\n",
    "    This is going to change change categorical values into binary values\n",
    "    '''\n",
    "    # Get one hot encoding of columns 'font-family'\n",
    "    one_hot = pd.get_dummies(df[colname],prefix=colname)\n",
    "    # Drop column B as it is now encoded\n",
    "    df = df.drop(colname,axis = 1)\n",
    "    # Join the encoded df\n",
    "    df = df.join(one_hot)\n",
    "    return df\n",
    "\n",
    "def one_hot_col(dataframe):\n",
    "    '''\n",
    "    One hot encode all the columns we want to cover to binary\n",
    "    '''\n",
    "    for col in dataframe.columns:\n",
    "        dataframe = one_hot(dataframe, col)\n",
    "    return dataframe\n",
    "\n",
    "\n",
    "def cleans_original(features):\n",
    "    '''\n",
    "    input: list of \"features\" coming from pdf-html converter\n",
    "    output: clean dataframe \n",
    "    '''\n",
    "    original = pd.concat(features, axis=0, sort=False).reset_index(drop=1)\n",
    "    #removes columns that only have one unique value\n",
    "    columns = original.columns[original.nunique()>1]\n",
    "    original = original[columns]\n",
    "    #remove style and id columns because are not relevant (these are just classes from html)\n",
    "    original = original.drop([\"style\",\"id\"], axis=1)\n",
    "    #remove whitespace in names of the columns\n",
    "    original.columns = original.columns.str.replace(' ', '')\n",
    "    # color name\n",
    "    original[\"color\"] = original[\"color\"].apply(lambda x: color_match(x))\n",
    "    #Leading_Char_Upper = LCU\n",
    "    original[\"LCU\"]=original['text'].str[0].str.isupper().map({True: '1', False: '0'})\n",
    "    #Leading_Numeral\n",
    "    original[\"LN\"] = original['text'].str[0].str.isdigit().map({True: '1', False: '0'})\n",
    "    #Ends_In_Period\n",
    "    original[\"EIP\"]= original['text'].str.endswith(\".\").map({True: '1', False: '0'})\n",
    "    #Leading_Number_Period. Check start with any nuerical combinations followed by \".\", ex 1.\n",
    "    original['LNP'] = original['text'].str.match(\"\\d+\\..*\").map({True: '1', False: '0'})\n",
    "    #'Leading_Char_Period'. Check start with any uppercase or lowercase character  followed by \".\" , ex A.\n",
    "    original[\"LCP\"] =original['text'].str.contains('^[A-Z,a-z]\\.+').map({True: '1', False: '0'})\n",
    "    # Roman_Period. Any roman numaral  followed by \".\"\n",
    "    original[\"RP\"] = original['text'].str.contains('[V|I|X]\\.+').map({True: '1', False: '0'})\n",
    "    # number of words in a row\n",
    "    original[\"num_words\"] = original[\"text\"].apply(lambda x: len(x.split()))\n",
    "    # number of letters in a row\n",
    "    original[\"num_letters\"] = original[\"text\"].apply(lambda x: len(x))\n",
    "    #Clean px and convert to right data type for columns: fontsize, left and top\n",
    "    original['font-size'] = pd.to_numeric(original['font-size'].str.replace('px', ''))\n",
    "    original['left'] = pd.to_numeric(original['left'].str.replace('px', ''))\n",
    "    original['top'] = pd.to_numeric(original['top'].str.replace('px', ''))\n",
    "    # convert page number to int\n",
    "    original[\"page\"] = original[\"page\"].apply(lambda x: int(''.join(filter(str.isdigit, x))))\n",
    "    # clean page name\n",
    "    original[\"document\"] = original[\"document\"].apply(lambda x: x.split(\"/\")[-1])\n",
    "    # find ngrams\n",
    "    original['trigrams'] = original['text'].map(lambda x: find_ngrams(x.split(\" \"), 3))\n",
    "    #first word\n",
    "    original[\"first_word\"] = original[\"text\"].apply(lambda x: x.split(' ', 1)[0])\n",
    "    # checks if first word is a data\n",
    "    original[\"isDate\"] = original[\"first_word\"].apply(lambda x: is_date(x))\n",
    "    # line space between rows (top)\n",
    "    original[\"LST\"] = original.groupby([\"document\",\"page\"])[\"top\"].apply(lambda x: x.diff())\n",
    "    # line space between rows (left)\n",
    "    original[\"LSL\"] = original.groupby([\"document\",\"page\"])[\"left\"].apply(lambda x: x.diff())\n",
    "    # line per page\n",
    "    original[\"LPG\"]=original.groupby(['document','page']).cumcount()+1\n",
    "    # line per document \n",
    "    original[\"LPD\"] = original.groupby(['document']).cumcount()+1\n",
    "    return original "
   ]
  },
  {
   "cell_type": "markdown",
   "metadata": {},
   "source": [
    "### reads all html files"
   ]
  },
  {
   "cell_type": "code",
   "execution_count": 4,
   "metadata": {},
   "outputs": [
    {
     "name": "stderr",
     "output_type": "stream",
     "text": [
      "/anaconda3/lib/python3.7/site-packages/fuzzywuzzy/fuzz.py:11: UserWarning: Using slow pure-python SequenceMatcher. Install python-Levenshtein to remove this warning\n",
      "  warnings.warn('Using slow pure-python SequenceMatcher. Install python-Levenshtein to remove this warning')\n"
     ]
    }
   ],
   "source": [
    "import re \n",
    "import webcolors\n",
    "import numpy as np\n",
    "import pandas as pd\n",
    "import os\n",
    "from functools import reduce\n",
    "from dateutil.parser import parse\n",
    "from fuzzywuzzy import process"
   ]
  },
  {
   "cell_type": "code",
   "execution_count": 5,
   "metadata": {
    "scrolled": true
   },
   "outputs": [
    {
     "name": "stdout",
     "output_type": "stream",
     "text": [
      "CPU times: user 3 µs, sys: 1 µs, total: 4 µs\n",
      "Wall time: 6.91 µs\n"
     ]
    },
    {
     "name": "stderr",
     "output_type": "stream",
     "text": [
      "/anaconda3/lib/python3.7/site-packages/ipykernel_launcher.py:70: FutureWarning: Sorting because non-concatenation axis is not aligned. A future version\n",
      "of pandas will change to not sort by default.\n",
      "\n",
      "To accept the future behavior, pass 'sort=False'.\n",
      "\n",
      "To retain the current behavior and silence the warning, pass 'sort=True'.\n",
      "\n"
     ]
    },
    {
     "name": "stdout",
     "output_type": "stream",
     "text": [
      "html_files/CMS_2014_0115_13244.pdf/page7.html NOT found\n",
      "html_files/CMS_2014_0115_58105.pdf/page8.html NOT found\n"
     ]
    }
   ],
   "source": [
    "%time\n",
    "features = []\n",
    "for root, dirs, files in os.walk(\"html_files\"):\n",
    "    for file in files:\n",
    "        if file.endswith(\".html\"):\n",
    "            if file != \"index.html\":\n",
    "                try:\n",
    "                    file_path =  os.path.join(root, file)\n",
    "                    #print(file_path+ \" found\")\n",
    "                    df = extract_features(file_path)\n",
    "                    df = df.assign(page=file)\n",
    "                    df = df.assign(document=root)\n",
    "                    features.append(df)\n",
    "                except:\n",
    "                    print(file_path+\" NOT found\")"
   ]
  },
  {
   "cell_type": "code",
   "execution_count": 60,
   "metadata": {},
   "outputs": [
    {
     "name": "stdout",
     "output_type": "stream",
     "text": [
      "CPU times: user 1min 13s, sys: 756 ms, total: 1min 14s\n",
      "Wall time: 1min 15s\n"
     ]
    }
   ],
   "source": [
    "%%time \n",
    "original=cleans_original(features)"
   ]
  },
  {
   "cell_type": "code",
   "execution_count": 61,
   "metadata": {
    "scrolled": false
   },
   "outputs": [
    {
     "name": "stdout",
     "output_type": "stream",
     "text": [
      "(41910, 26)\n",
      "Index(['font-size', 'vertical-align', 'color', 'font-family', 'font-weight',\n",
      "       'font-style', 'left', 'top', 'text', 'page', 'document', 'LCU', 'LN',\n",
      "       'EIP', 'LNP', 'LCP', 'RP', 'num_words', 'num_letters', 'trigrams',\n",
      "       'first_word', 'isDate', 'LST', 'LSL', 'LPG', 'LPD'],\n",
      "      dtype='object')\n"
     ]
    }
   ],
   "source": [
    "print(original.shape)\n",
    "print(original.columns)"
   ]
  },
  {
   "cell_type": "markdown",
   "metadata": {},
   "source": [
    "### Read DataFrame with Tagged Values"
   ]
  },
  {
   "cell_type": "code",
   "execution_count": 62,
   "metadata": {},
   "outputs": [],
   "source": [
    "# name, Section_Id_Document, Section_ID, Paragraph, Comment, Class, df_idx\n",
    "colnames = [\"document\",\"page\",\"Section_Id_Document\", \"Section_ID\", \"Paragraph\", \"Comment\", \"Class\", \"df_idx\",\"Name\"]\n",
    "excel_file = pd.read_excel('./features.xlsx', sheet_name = 'features_v7' , \n",
    "                           header=1, skip_blank_lines = False) \n",
    "excel_file[\"page\"] = excel_file[\"page\"].apply(lambda x: int(''.join(filter(str.isdigit, x))))\n",
    "excel_file[\"document\"] = excel_file[\"document\"].apply(lambda x: x.split(\"/\")[-1])"
   ]
  },
  {
   "cell_type": "code",
   "execution_count": 63,
   "metadata": {},
   "outputs": [],
   "source": [
    "# merge tagged data with data\n",
    "data = pd.merge(original,excel_file[colnames],left_index=True, right_index=True, on=[\"document\",\"page\"])"
   ]
  },
  {
   "cell_type": "code",
   "execution_count": 64,
   "metadata": {},
   "outputs": [
    {
     "name": "stdout",
     "output_type": "stream",
     "text": [
      "(41910, 33)\n",
      "Index(['font-size', 'vertical-align', 'color', 'font-family', 'font-weight',\n",
      "       'font-style', 'left', 'top', 'text', 'page', 'document', 'LCU', 'LN',\n",
      "       'EIP', 'LNP', 'LCP', 'RP', 'num_words', 'num_letters', 'trigrams',\n",
      "       'first_word', 'isDate', 'LST', 'LSL', 'LPG', 'LPD',\n",
      "       'Section_Id_Document', 'Section_ID', 'Paragraph', 'Comment', 'Class',\n",
      "       'df_idx', 'Name'],\n",
      "      dtype='object')\n"
     ]
    }
   ],
   "source": [
    "print(data.shape)\n",
    "print(data.columns)"
   ]
  },
  {
   "cell_type": "code",
   "execution_count": 65,
   "metadata": {},
   "outputs": [
    {
     "name": "stdout",
     "output_type": "stream",
     "text": [
      "(41910, 5)\n",
      "(41910, 33)\n",
      "(41910, 35)\n",
      "CPU times: user 5.09 s, sys: 71 ms, total: 5.16 s\n",
      "Wall time: 1min 9s\n"
     ]
    }
   ],
   "source": [
    "%%time\n",
    "# gets sections \n",
    "sec_doc = section_ids(data[[\"document\", \"page\", \"Class\"]])\n",
    "print(sec_doc.shape)\n",
    "print(data.shape)\n",
    "data = pd.merge(data,sec_doc,left_index=True, right_index=True, on=[\"document\",\"page\", \"Class\"])\n",
    "print(data.shape)"
   ]
  },
  {
   "cell_type": "code",
   "execution_count": 66,
   "metadata": {},
   "outputs": [
    {
     "name": "stdout",
     "output_type": "stream",
     "text": [
      "CPU times: user 120 ms, sys: 15.3 ms, total: 135 ms\n",
      "Wall time: 133 ms\n"
     ]
    }
   ],
   "source": [
    "%%time\n",
    "one_hot_data = one_hot_col(data[['vertical-align','color','font-family','font-weight','font-style']])"
   ]
  },
  {
   "cell_type": "code",
   "execution_count": 114,
   "metadata": {},
   "outputs": [],
   "source": [
    "df = data.join(one_hot_data)"
   ]
  },
  {
   "cell_type": "code",
   "execution_count": 115,
   "metadata": {},
   "outputs": [],
   "source": [
    "remove_col = ['vertical-align', 'color', 'font-family', 'font-weight','font-style','text', 'document',\n",
    "            'Section_Id_Document','Section_ID', 'Paragraph', 'Comment', 'df_idx', 'Name','secIDin', \n",
    "            'secIDall','bigrams','first_word','trigrams']"
   ]
  },
  {
   "cell_type": "code",
   "execution_count": 116,
   "metadata": {},
   "outputs": [
    {
     "name": "stdout",
     "output_type": "stream",
     "text": [
      "(41910, 55)\n",
      "(7527, 55)\n"
     ]
    }
   ],
   "source": [
    "data_model = df[df.columns[~df.columns.isin(remove_col)]]\n",
    "print(data_model.shape)\n",
    "data_model = data_model.dropna()\n",
    "print(data_model.shape)"
   ]
  },
  {
   "cell_type": "markdown",
   "metadata": {},
   "source": [
    "### model"
   ]
  },
  {
   "cell_type": "code",
   "execution_count": 117,
   "metadata": {},
   "outputs": [],
   "source": [
    "def metrics(y_test, y_pred):\n",
    "    print(\"Accuracy score: {:.2f}\".format(accuracy_score(y_test, y_pred)))\n",
    "    print(\"F1 score: {:.2f}\".format(f1_score(y_test, y_pred)))\n",
    "    print(\"ROC AUC score: {:.2f}\".format(roc_auc_score(y_test, y_pred)))"
   ]
  },
  {
   "cell_type": "code",
   "execution_count": 118,
   "metadata": {},
   "outputs": [],
   "source": [
    "def confusion_metrics(y_test, y_pred):\n",
    "    cm = confusion_matrix(y_test, y_pred)\n",
    "    print(\"True Negatives:\", cm[0][0])\n",
    "    print(\"False Negatives:\", cm[1][0])\n",
    "    print(\"True Positives:\", cm[1][1])\n",
    "    print(\"False Positives:\", cm[0][1])"
   ]
  },
  {
   "cell_type": "code",
   "execution_count": 196,
   "metadata": {},
   "outputs": [],
   "source": [
    "from sklearn.ensemble import RandomForestClassifier\n",
    "from sklearn.model_selection import train_test_split\n",
    "from sklearn.metrics import * \n",
    "import warnings\n",
    "warnings.filterwarnings(\"ignore\")\n",
    "from pylab import rcParams\n",
    "rcParams['figure.figsize'] = 5, 7\n",
    "from sklearn.preprocessing import normalize"
   ]
  },
  {
   "cell_type": "code",
   "execution_count": 197,
   "metadata": {},
   "outputs": [],
   "source": [
    "#X = normalize(data_model[data_model.columns[~data_model.columns.isin([\"Class\"])]], axis=0, norm='l1')\n",
    "y = data_model[data_model.columns[data_model.columns.isin([\"Class\"])]]\n",
    "X = data_model[data_model.columns[~data_model.columns.isin([\"Class\"])]]"
   ]
  },
  {
   "cell_type": "code",
   "execution_count": 198,
   "metadata": {},
   "outputs": [],
   "source": [
    "X_train, X_test, y_train, y_test = train_test_split(X, y, test_size=0.30, random_state=42)"
   ]
  },
  {
   "cell_type": "code",
   "execution_count": 199,
   "metadata": {},
   "outputs": [
    {
     "name": "stdout",
     "output_type": "stream",
     "text": [
      "train_data\n",
      "\n",
      "Accuracy score: 1.00\n",
      "F1 score: 0.93\n",
      "ROC AUC score: 0.93\n",
      "\n",
      "\n",
      "True Negatives: 5163\n",
      "False Negatives: 14\n",
      "True Positives: 91\n",
      "False Positives: 0\n"
     ]
    }
   ],
   "source": [
    "model = RandomForestClassifier(random_state=42) \n",
    "model.fit(X_train, y_train)\n",
    "y_pred = model.predict(X_train)\n",
    "print(\"train_data\\n\")\n",
    "metrics(y_train, y_pred)\n",
    "print(\"\\n\")\n",
    "confusion_metrics(y_train, y_pred)"
   ]
  },
  {
   "cell_type": "code",
   "execution_count": 200,
   "metadata": {},
   "outputs": [
    {
     "name": "stdout",
     "output_type": "stream",
     "text": [
      "test data\n",
      "Accuracy score: 1.00\n",
      "F1 score: 1.00\n",
      "ROC AUC score: 1.00\n",
      "\n",
      "\n",
      "True Negatives: 2215\n",
      "False Negatives: 31\n",
      "True Positives: 10\n",
      "False Positives: 3\n"
     ]
    }
   ],
   "source": [
    "model = RandomForestClassifier(random_state=42) \n",
    "model.fit(X_train, y_train)\n",
    "y_pred = model.predict(X_test)\n",
    "print(\"test data\")\n",
    "metrics(y_test, y_test)\n",
    "print(\"\\n\")\n",
    "confusion_metrics(y_test, y_pred)"
   ]
  },
  {
   "cell_type": "code",
   "execution_count": 201,
   "metadata": {},
   "outputs": [
    {
     "data": {
      "text/plain": [
       "<matplotlib.axes._subplots.AxesSubplot at 0x1a3b280668>"
      ]
     },
     "execution_count": 201,
     "metadata": {},
     "output_type": "execute_result"
    },
    {
     "data": {
      "image/png": "[encoded data removed]",
      "text/plain": [
       "<Figure size 360x504 with 1 Axes>"
      ]
     },
     "metadata": {
      "needs_background": "light"
     },
     "output_type": "display_data"
    }
   ],
   "source": [
    "feat_importances = pd.Series(model.feature_importances_, index= X.columns)\n",
    "feat_importances.nlargest(20).plot(kind='barh')"
   ]
  },
  {
   "cell_type": "code",
   "execution_count": null,
   "metadata": {},
   "outputs": [],
   "source": []
  }
 ],
 "metadata": {
  "kernelspec": {
   "display_name": "Python 3",
   "language": "python",
   "name": "python3"
  },
  "language_info": {
   "codemirror_mode": {
    "name": "ipython",
    "version": 3
   },
   "file_extension": ".py",
   "mimetype": "text/x-python",
   "name": "python",
   "nbconvert_exporter": "python",
   "pygments_lexer": "ipython3",
   "version": "3.7.1"
  }
 },
 "nbformat": 4,
 "nbformat_minor": 2
}
