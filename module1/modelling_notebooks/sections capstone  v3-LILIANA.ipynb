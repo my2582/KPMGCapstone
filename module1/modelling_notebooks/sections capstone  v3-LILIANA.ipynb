{
 "cells": [
  {
   "cell_type": "code",
   "execution_count": 6,
   "metadata": {},
   "outputs": [],
   "source": [
    "import pandas as pd\n",
    "import numpy as np\n",
    "pd.options.display.max_colwidth = 200"
   ]
  },
  {
   "cell_type": "code",
   "execution_count": 7,
   "metadata": {},
   "outputs": [],
   "source": [
    "def section_ids(df):\n",
    "    ''' \n",
    "    input data frame with the following columns document, page, Class\n",
    "    this will extract the section if once the row is tagged\n",
    "    '''\n",
    "    \n",
    "    secID_in = []\n",
    "    for doc in df[\"document\"].unique():\n",
    "        temp = df[df[\"document\"]==doc]\n",
    "        j = 1\n",
    "        for i in range(len(temp)):\n",
    "            if temp.iloc[i,2] == 1.0:\n",
    "                secID_in.append((temp.iloc[i,0],temp.iloc[i,1],temp.iloc[i,2],0))\n",
    "                j+=1\n",
    "            elif temp.iloc[i,2] == 0.0:\n",
    "                secID_in.append((temp.iloc[i,0],temp.iloc[i,1],temp.iloc[i,2],j))\n",
    "            else:\n",
    "                secID_in.append((temp.iloc[i,0],temp.iloc[i,1],temp.iloc[i,2],np.nan))\n",
    "\n",
    "    sections = pd.DataFrame(secID_in, columns =[\"document\",\"page\",\"Class\",\"secIDin\"])\n",
    "    return sections\n",
    "\n",
    "def get_text(df_after_classification):\n",
    "    \n",
    "    # gets sections ID  \n",
    "    sec_doc = section_ids(df_after_classification[[\"document\", \"page\", \"Class\"]])\n",
    "\n",
    "    # merges the sections ID with DataFrame\n",
    "    data = pd.merge(df_after_classification,\n",
    "                    sec_doc,left_index=True, right_index=True, on=[\"document\",\"page\", \"Class\"])\n",
    "    \n",
    "    text = data[[\"text\",\"document\",\"page\",\"Class\",\n",
    "              \"secIDin\"]].groupby([\"document\",\"secIDin\"])['text'].apply(list).reset_index()\n",
    "\n",
    "    # extracts the text\n",
    "    text = text[(text[\"secIDin\"]!=0) & (text[\"secIDin\"]!=1)] \n",
    "    \n",
    "    # merges the text and the titles\n",
    "    temp_df = text\n",
    "    temp_df[\"secIDin\"] = temp_df[\"secIDin\"]-1\n",
    "    \n",
    "    return temp_df"
   ]
  },
  {
   "cell_type": "markdown",
   "metadata": {},
   "source": [
    "### the cell below cleans the data but it is not needed if the data is already cleaned. "
   ]
  },
  {
   "cell_type": "code",
   "execution_count": 8,
   "metadata": {},
   "outputs": [],
   "source": [
    "excel_file = pd.read_excel('./features.xlsx', sheet_name = 'features_v7' , \n",
    "                           header=1, skip_blank_lines = False) \n",
    "excel_file['left'] = pd.to_numeric(excel_file['left'].str.replace('px', ''))\n",
    "excel_file['top'] = pd.to_numeric(excel_file['top'].str.replace('px', ''))\n",
    "excel_file[\"page\"] = excel_file[\"page\"].apply(lambda x: int(''.join(filter(str.isdigit, x))))\n",
    "excel_file[\"document\"] = excel_file[\"document\"].apply(lambda x: x.split(\"/\")[-1])\n",
    "excel_file[\"LSL\"] = excel_file.groupby([\"document\",\"page\"])[\"left\"].apply(lambda x: x.diff()).fillna(0)\n",
    "excel_file[\"LST\"] = excel_file.groupby([\"document\",\"page\"])[\"top\"].apply(lambda x: x.diff()).fillna(0)\n",
    "#Clean px and convert to right data type for columns: fontsize, left and top\n",
    "excel_file['font-size'] = pd.to_numeric(excel_file['font-size'].str.replace('px', ''))"
   ]
  },
  {
   "cell_type": "markdown",
   "metadata": {},
   "source": [
    "### this is the code to extract the important info. "
   ]
  },
  {
   "cell_type": "code",
   "execution_count": 9,
   "metadata": {},
   "outputs": [
    {
     "name": "stdout",
     "output_type": "stream",
     "text": [
      "this is how the dataframe should look like to pass  it to my function\n"
     ]
    },
    {
     "data": {
      "text/html": [
       "<div>\n",
       "<style scoped>\n",
       "    .dataframe tbody tr th:only-of-type {\n",
       "        vertical-align: middle;\n",
       "    }\n",
       "\n",
       "    .dataframe tbody tr th {\n",
       "        vertical-align: top;\n",
       "    }\n",
       "\n",
       "    .dataframe thead th {\n",
       "        text-align: right;\n",
       "    }\n",
       "</style>\n",
       "<table border=\"1\" class=\"dataframe\">\n",
       "  <thead>\n",
       "    <tr style=\"text-align: right;\">\n",
       "      <th></th>\n",
       "      <th>document</th>\n",
       "      <th>page</th>\n",
       "      <th>text</th>\n",
       "      <th>Class</th>\n",
       "    </tr>\n",
       "  </thead>\n",
       "  <tbody>\n",
       "    <tr>\n",
       "      <th>0</th>\n",
       "      <td>CMS_2014_0115_0059.pdf</td>\n",
       "      <td>1</td>\n",
       "      <td>2014-10-10 00:00:00</td>\n",
       "      <td>0.0</td>\n",
       "    </tr>\n",
       "    <tr>\n",
       "      <th>1</th>\n",
       "      <td>CMS_2014_0115_0059.pdf</td>\n",
       "      <td>1</td>\n",
       "      <td>Centers for Medicare &amp; Medicaid Services</td>\n",
       "      <td>0.0</td>\n",
       "    </tr>\n",
       "    <tr>\n",
       "      <th>2</th>\n",
       "      <td>CMS_2014_0115_0059.pdf</td>\n",
       "      <td>1</td>\n",
       "      <td>Department of Health and Human Services</td>\n",
       "      <td>0.0</td>\n",
       "    </tr>\n",
       "    <tr>\n",
       "      <th>3</th>\n",
       "      <td>CMS_2014_0115_0059.pdf</td>\n",
       "      <td>1</td>\n",
       "      <td>Attention: CMS-9968-P</td>\n",
       "      <td>0.0</td>\n",
       "    </tr>\n",
       "    <tr>\n",
       "      <th>4</th>\n",
       "      <td>CMS_2014_0115_0059.pdf</td>\n",
       "      <td>1</td>\n",
       "      <td>P.O. Box 8013</td>\n",
       "      <td>0.0</td>\n",
       "    </tr>\n",
       "  </tbody>\n",
       "</table>\n",
       "</div>"
      ],
      "text/plain": [
       "                 document  page                                      text  \\\n",
       "0  CMS_2014_0115_0059.pdf     1                       2014-10-10 00:00:00   \n",
       "1  CMS_2014_0115_0059.pdf     1  Centers for Medicare & Medicaid Services   \n",
       "2  CMS_2014_0115_0059.pdf     1   Department of Health and Human Services   \n",
       "3  CMS_2014_0115_0059.pdf     1                     Attention: CMS-9968-P   \n",
       "4  CMS_2014_0115_0059.pdf     1                             P.O. Box 8013   \n",
       "\n",
       "   Class  \n",
       "0    0.0  \n",
       "1    0.0  \n",
       "2    0.0  \n",
       "3    0.0  \n",
       "4    0.0  "
      ]
     },
     "execution_count": 9,
     "metadata": {},
     "output_type": "execute_result"
    }
   ],
   "source": [
    "df_after_classification = excel_file[[\"document\",\"page\",\"text\",\"Class\",]]\n",
    "print(\"this is how the dataframe should look like to pass  it to my function\")\n",
    "df_after_classification.head()"
   ]
  },
  {
   "cell_type": "markdown",
   "metadata": {},
   "source": [
    "### using the function"
   ]
  },
  {
   "cell_type": "code",
   "execution_count": 10,
   "metadata": {},
   "outputs": [
    {
     "data": {
      "text/html": [
       "<div>\n",
       "<style scoped>\n",
       "    .dataframe tbody tr th:only-of-type {\n",
       "        vertical-align: middle;\n",
       "    }\n",
       "\n",
       "    .dataframe tbody tr th {\n",
       "        vertical-align: top;\n",
       "    }\n",
       "\n",
       "    .dataframe thead th {\n",
       "        text-align: right;\n",
       "    }\n",
       "</style>\n",
       "<table border=\"1\" class=\"dataframe\">\n",
       "  <thead>\n",
       "    <tr style=\"text-align: right;\">\n",
       "      <th></th>\n",
       "      <th>document</th>\n",
       "      <th>secIDin</th>\n",
       "      <th>text</th>\n",
       "    </tr>\n",
       "  </thead>\n",
       "  <tbody>\n",
       "    <tr>\n",
       "      <th>2</th>\n",
       "      <td>CMS_2014_0115_0059.pdf</td>\n",
       "      <td>1.0</td>\n",
       "      <td>[students of religious institutions, To Whom It May Concern:, On behalf of Nationwide Life Insurance Company (“Nationwide”) and its affiliated companies, we, appreciate the opportunity to provide ...</td>\n",
       "    </tr>\n",
       "    <tr>\n",
       "      <th>3</th>\n",
       "      <td>CMS_2014_0115_0059.pdf</td>\n",
       "      <td>2.0</td>\n",
       "      <td>[significant administrative burden upon all parties., The Department’s basic premise that “issuers generally would find that providing such contraceptive, coverage is cost neutral” is in error (Fe...</td>\n",
       "    </tr>\n",
       "    <tr>\n",
       "      <th>4</th>\n",
       "      <td>CMS_2014_0115_0059.pdf</td>\n",
       "      <td>3.0</td>\n",
       "      <td>[automatically enrolled in a contraceptive-only health plan., Students who choose to attend a religious institution of higher learning do so for a reason, and most, of the time, these students str...</td>\n",
       "    </tr>\n",
       "    <tr>\n",
       "      <th>5</th>\n",
       "      <td>CMS_2014_0115_0059.pdf</td>\n",
       "      <td>4.0</td>\n",
       "      <td>[partaking in providing contraceptive coverage to its students if the same SHIP it contracts, with for general student health must also provide contraceptive coverage via individual, policies., In...</td>\n",
       "    </tr>\n",
       "    <tr>\n",
       "      <th>6</th>\n",
       "      <td>CMS_2014_0115_0059.pdf</td>\n",
       "      <td>5.0</td>\n",
       "      <td>[contrary to basic contract law., An issued health insurance policy is a contract between an insurance company and the insured., Contracts are binding and enforceable only when one party extends a...</td>\n",
       "    </tr>\n",
       "  </tbody>\n",
       "</table>\n",
       "</div>"
      ],
      "text/plain": [
       "                 document  secIDin  \\\n",
       "2  CMS_2014_0115_0059.pdf      1.0   \n",
       "3  CMS_2014_0115_0059.pdf      2.0   \n",
       "4  CMS_2014_0115_0059.pdf      3.0   \n",
       "5  CMS_2014_0115_0059.pdf      4.0   \n",
       "6  CMS_2014_0115_0059.pdf      5.0   \n",
       "\n",
       "                                                                                                                                                                                                      text  \n",
       "2  [students of religious institutions, To Whom It May Concern:, On behalf of Nationwide Life Insurance Company (“Nationwide”) and its affiliated companies, we, appreciate the opportunity to provide ...  \n",
       "3  [significant administrative burden upon all parties., The Department’s basic premise that “issuers generally would find that providing such contraceptive, coverage is cost neutral” is in error (Fe...  \n",
       "4  [automatically enrolled in a contraceptive-only health plan., Students who choose to attend a religious institution of higher learning do so for a reason, and most, of the time, these students str...  \n",
       "5  [partaking in providing contraceptive coverage to its students if the same SHIP it contracts, with for general student health must also provide contraceptive coverage via individual, policies., In...  \n",
       "6  [contrary to basic contract law., An issued health insurance policy is a contract between an insurance company and the insured., Contracts are binding and enforceable only when one party extends a...  "
      ]
     },
     "execution_count": 10,
     "metadata": {},
     "output_type": "execute_result"
    }
   ],
   "source": [
    "documents = get_text(df_after_classification)\n",
    "documents.head()"
   ]
  },
  {
   "cell_type": "code",
   "execution_count": null,
   "metadata": {},
   "outputs": [],
   "source": []
  },
  {
   "cell_type": "code",
   "execution_count": null,
   "metadata": {},
   "outputs": [],
   "source": []
  }
 ],
 "metadata": {
  "kernelspec": {
   "display_name": "Python 3",
   "language": "python",
   "name": "python3"
  },
  "language_info": {
   "codemirror_mode": {
    "name": "ipython",
    "version": 3
   },
   "file_extension": ".py",
   "mimetype": "text/x-python",
   "name": "python",
   "nbconvert_exporter": "python",
   "pygments_lexer": "ipython3",
   "version": "3.7.1"
  }
 },
 "nbformat": 4,
 "nbformat_minor": 2
}
