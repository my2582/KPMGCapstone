{
 "cells": [
  {
   "cell_type": "code",
   "execution_count": null,
   "metadata": {},
   "outputs": [],
   "source": [
    "import string\n",
    "from textblob import TextBlob"
   ]
  },
  {
   "cell_type": "code",
   "execution_count": null,
   "metadata": {},
   "outputs": [],
   "source": [
    "# function to check and get the part of speech tag count of a words in a given sentence\n",
    "def check_pos_tag(x, flag):\n",
    "    cnt = 0\n",
    "    try:\n",
    "        wiki = TextBlob(x)\n",
    "        for tup in wiki.tags:\n",
    "            ppo = list(tup)[1]\n",
    "            if ppo in pos_family[flag]:\n",
    "                cnt += 1\n",
    "    except:\n",
    "        pass\n",
    "    return cnt"
   ]
  },
  {
   "cell_type": "code",
   "execution_count": null,
   "metadata": {},
   "outputs": [],
   "source": [
    "# NLP features\n",
    "original['word_density'] = original['num_letters'] / (original['num_words']+1)\n",
    "original['punctuation_count'] = original['text'].apply(lambda x: len(\"\".join(_ for _ in x if _ in string.punctuation))) \n",
    "original['title_word_count'] = original['text'].apply(lambda x: len([wrd for wrd in x.split() if wrd.istitle()]))\n",
    "original['upper_case_word_count'] = original['text'].apply(lambda x: len([wrd for wrd in x.split() if wrd.isupper()]))\n",
    "original['noun_count'] = original['text'].apply(lambda x: check_pos_tag(x, 'noun'))\n",
    "original['verb_count'] = original['text'].apply(lambda x: check_pos_tag(x, 'verb'))\n",
    "original['adj_count'] = original['text'].apply(lambda x: check_pos_tag(x, 'adj'))\n",
    "original['adv_count'] = original['text'].apply(lambda x: check_pos_tag(x, 'adv'))\n",
    "original['pron_count'] = original['text'].apply(lambda x: check_pos_tag(x, 'pron'))\n"
   ]
  }
 ],
 "metadata": {
  "kernelspec": {
   "display_name": "Python 3",
   "language": "python",
   "name": "python3"
  },
  "language_info": {
   "codemirror_mode": {
    "name": "ipython",
    "version": 3
   },
   "file_extension": ".py",
   "mimetype": "text/x-python",
   "name": "python",
   "nbconvert_exporter": "python",
   "pygments_lexer": "ipython3",
   "version": "3.7.1"
  }
 },
 "nbformat": 4,
 "nbformat_minor": 2
}
